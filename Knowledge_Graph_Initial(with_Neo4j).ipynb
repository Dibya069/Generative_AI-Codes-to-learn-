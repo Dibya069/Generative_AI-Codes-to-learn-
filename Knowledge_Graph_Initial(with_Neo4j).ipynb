{
  "nbformat": 4,
  "nbformat_minor": 0,
  "metadata": {
    "colab": {
      "provenance": [],
      "gpuType": "T4",
      "authorship_tag": "ABX9TyOYupuakAhaYd14sxoam62f",
      "include_colab_link": true
    },
    "kernelspec": {
      "name": "python3",
      "display_name": "Python 3"
    },
    "language_info": {
      "name": "python"
    },
    "accelerator": "GPU",
    "widgets": {
      "application/vnd.jupyter.widget-state+json": {
        "58d59d796f9a4cb9acaa8b79dcb53c7f": {
          "model_module": "yfiles-jupyter-graphs",
          "model_name": "GraphModel",
          "model_module_version": "^1.8.1",
          "state": {
            "_context_pane_mapping": [
              {
                "id": "Neighborhood",
                "title": "Neighborhood"
              },
              {
                "id": "Data",
                "title": "Data"
              },
              {
                "id": "Search",
                "title": "Search"
              },
              {
                "id": "About",
                "title": "About"
              }
            ],
            "_data_importer": "neo4j",
            "_directed": true,
            "_dom_classes": [],
            "_edges": [
              {
                "id": 1152922604118474800,
                "start": 1,
                "end": 2,
                "properties": {
                  "label": "MEMBER"
                },
                "label": "MEMBER",
                "color": "#673AB7",
                "thickness_factor": 1,
                "directed": true
              },
              {
                "id": 1155174403932160000,
                "start": 1,
                "end": 21,
                "properties": {
                  "label": "MEMBER"
                },
                "label": "MEMBER",
                "color": "#673AB7",
                "thickness_factor": 1,
                "directed": true
              },
              {
                "id": 1157426203745845200,
                "start": 1,
                "end": 22,
                "properties": {
                  "label": "MEMBER"
                },
                "label": "MEMBER",
                "color": "#673AB7",
                "thickness_factor": 1,
                "directed": true
              },
              {
                "id": 1152923703630102500,
                "start": 1,
                "end": 3,
                "properties": {
                  "label": "SEPARATED"
                },
                "label": "SEPARATED",
                "color": "#CDDC39",
                "thickness_factor": 1,
                "directed": true
              },
              {
                "id": 1152924803141730300,
                "start": 1,
                "end": 4,
                "properties": {
                  "label": "FOUNDER"
                },
                "label": "FOUNDER",
                "color": "#9E9E9E",
                "thickness_factor": 1,
                "directed": true
              },
              {
                "id": 1155176602955415600,
                "start": 1,
                "end": 10,
                "properties": {
                  "label": "FOUNDER"
                },
                "label": "FOUNDER",
                "color": "#9E9E9E",
                "thickness_factor": 1,
                "directed": true
              },
              {
                "id": 1157428402769100800,
                "start": 1,
                "end": 15,
                "properties": {
                  "label": "FOUNDER"
                },
                "label": "FOUNDER",
                "color": "#9E9E9E",
                "thickness_factor": 1,
                "directed": true
              },
              {
                "id": 1152925902653358000,
                "start": 1,
                "end": 5,
                "properties": {
                  "label": "CROWNED"
                },
                "label": "CROWNED",
                "color": "#9C27B0",
                "thickness_factor": 1,
                "directed": true
              },
              {
                "id": 1152927002164985900,
                "start": 1,
                "end": 6,
                "properties": {
                  "label": "ALLIED"
                },
                "label": "ALLIED",
                "color": "#2196F3",
                "thickness_factor": 1,
                "directed": true
              },
              {
                "id": 1155178801978671000,
                "start": 1,
                "end": 7,
                "properties": {
                  "label": "ALLIED"
                },
                "label": "ALLIED",
                "color": "#2196F3",
                "thickness_factor": 1,
                "directed": true
              },
              {
                "id": 1157430601792356400,
                "start": 1,
                "end": 8,
                "properties": {
                  "label": "ALLIED"
                },
                "label": "ALLIED",
                "color": "#2196F3",
                "thickness_factor": 1,
                "directed": true
              },
              {
                "id": 1152928101676613600,
                "start": 1,
                "end": 9,
                "properties": {
                  "label": "PARTICIPANT"
                },
                "label": "PARTICIPANT",
                "color": "#4CAF50",
                "thickness_factor": 1,
                "directed": true
              },
              {
                "id": 1152929201188241400,
                "start": 1,
                "end": 11,
                "properties": {
                  "label": "PROMOTED"
                },
                "label": "PROMOTED",
                "color": "#F44336",
                "thickness_factor": 1,
                "directed": true
              },
              {
                "id": 1155181001001926700,
                "start": 1,
                "end": 12,
                "properties": {
                  "label": "PROMOTED"
                },
                "label": "PROMOTED",
                "color": "#F44336",
                "thickness_factor": 1,
                "directed": true
              },
              {
                "id": 1152930300699869200,
                "start": 1,
                "end": 13,
                "properties": {
                  "label": "REPLACED"
                },
                "label": "REPLACED",
                "color": "#607D8B",
                "thickness_factor": 1,
                "directed": true
              },
              {
                "id": 1152931400211497000,
                "start": 1,
                "end": 14,
                "properties": {
                  "label": "INFLUENCED"
                },
                "label": "INFLUENCED",
                "color": "#673AB7",
                "thickness_factor": 1,
                "directed": true
              },
              {
                "id": 1152932499723124700,
                "start": 1,
                "end": 16,
                "properties": {
                  "label": "BORN"
                },
                "label": "BORN",
                "color": "#CDDC39",
                "thickness_factor": 1,
                "directed": true
              },
              {
                "id": 1152933599234752500,
                "start": 1,
                "end": 20,
                "properties": {
                  "label": "NAMED"
                },
                "label": "NAMED",
                "color": "#9E9E9E",
                "thickness_factor": 1,
                "directed": true
              },
              {
                "id": 1152934698746380300,
                "start": 23,
                "end": 24,
                "properties": {
                  "label": "SERVED"
                },
                "label": "SERVED",
                "color": "#9C27B0",
                "thickness_factor": 1,
                "directed": true
              },
              {
                "id": 1152935798258008000,
                "start": 23,
                "end": 26,
                "properties": {
                  "label": "HAS_OCCUPATION"
                },
                "label": "HAS_OCCUPATION",
                "color": "#2196F3",
                "thickness_factor": 1,
                "directed": true
              },
              {
                "id": 1157445994955145200,
                "start": 23,
                "end": 6,
                "properties": {
                  "label": "CHANGED_LOYALTY"
                },
                "label": "CHANGED_LOYALTY",
                "color": "#4CAF50",
                "thickness_factor": 1,
                "directed": true
              },
              {
                "id": 1152942395327774700,
                "start": 23,
                "end": 43,
                "properties": {
                  "label": "CHANGED_LOYALTY"
                },
                "label": "CHANGED_LOYALTY",
                "color": "#4CAF50",
                "thickness_factor": 1,
                "directed": true
              },
              {
                "id": 1155194195141460000,
                "start": 23,
                "end": 44,
                "properties": {
                  "label": "CHANGED_LOYALTY"
                },
                "label": "CHANGED_LOYALTY",
                "color": "#4CAF50",
                "thickness_factor": 1,
                "directed": true
              },
              {
                "id": 1152943494839402500,
                "start": 23,
                "end": 45,
                "properties": {
                  "label": "KEPT"
                },
                "label": "KEPT",
                "color": "#F44336",
                "thickness_factor": 1,
                "directed": true
              },
              {
                "id": 1152944594351030300,
                "start": 23,
                "end": 46,
                "properties": {
                  "label": "HELPED"
                },
                "label": "HELPED",
                "color": "#607D8B",
                "thickness_factor": 1,
                "directed": true
              },
              {
                "id": 1152945693862658000,
                "start": 23,
                "end": 48,
                "properties": {
                  "label": "LOOKED_FOR"
                },
                "label": "LOOKED_FOR",
                "color": "#673AB7",
                "thickness_factor": 1,
                "directed": true
              },
              {
                "id": 1152946793374285800,
                "start": 23,
                "end": 49,
                "properties": {
                  "label": "PURSUED_BY"
                },
                "label": "PURSUED_BY",
                "color": "#CDDC39",
                "thickness_factor": 1,
                "directed": true
              },
              {
                "id": 1152947892885913600,
                "start": 23,
                "end": 50,
                "properties": {
                  "label": "OBTAINED"
                },
                "label": "OBTAINED",
                "color": "#9E9E9E",
                "thickness_factor": 1,
                "directed": true
              },
              {
                "id": 1152948992397541400,
                "start": 23,
                "end": 51,
                "properties": {
                  "label": "DEPLOYED_BY"
                },
                "label": "DEPLOYED_BY",
                "color": "#9C27B0",
                "thickness_factor": 1,
                "directed": true
              },
              {
                "id": 1152950091909169200,
                "start": 23,
                "end": 52,
                "properties": {
                  "label": "APPOINTED"
                },
                "label": "APPOINTED",
                "color": "#2196F3",
                "thickness_factor": 1,
                "directed": true
              },
              {
                "id": 1152936897769635800,
                "start": 27,
                "end": 28,
                "properties": {
                  "label": "CHILD_OF"
                },
                "label": "CHILD_OF",
                "color": "#4CAF50",
                "thickness_factor": 1,
                "directed": true
              },
              {
                "id": 1152952290932424700,
                "start": 27,
                "end": 50,
                "properties": {
                  "label": "SETTLED"
                },
                "label": "SETTLED",
                "color": "#F44336",
                "thickness_factor": 1,
                "directed": true
              },
              {
                "id": 1152935798258008000,
                "start": 28,
                "end": 29,
                "properties": {
                  "label": "HAS_OCCUPATION"
                },
                "label": "HAS_OCCUPATION",
                "color": "#2196F3",
                "thickness_factor": 1,
                "directed": true
              },
              {
                "id": 1152937997281263600,
                "start": 28,
                "end": 30,
                "properties": {
                  "label": "DESCENDANT_OF"
                },
                "label": "DESCENDANT_OF",
                "color": "#607D8B",
                "thickness_factor": 1,
                "directed": true
              },
              {
                "id": 1152934698746380300,
                "start": 31,
                "end": 32,
                "properties": {
                  "label": "SERVED"
                },
                "label": "SERVED",
                "color": "#9C27B0",
                "thickness_factor": 1,
                "directed": true
              },
              {
                "id": 1152939096792891400,
                "start": 31,
                "end": 33,
                "properties": {
                  "label": "HAS_TITLE"
                },
                "label": "HAS_TITLE",
                "color": "#673AB7",
                "thickness_factor": 1,
                "directed": true
              },
              {
                "id": 1152940196304519200,
                "start": 31,
                "end": 34,
                "properties": {
                  "label": "HAS_RIGHTS"
                },
                "label": "HAS_RIGHTS",
                "color": "#CDDC39",
                "thickness_factor": 1,
                "directed": true
              },
              {
                "id": 1155191996118204400,
                "start": 31,
                "end": 35,
                "properties": {
                  "label": "HAS_RIGHTS"
                },
                "label": "HAS_RIGHTS",
                "color": "#CDDC39",
                "thickness_factor": 1,
                "directed": true
              },
              {
                "id": 1157443795931889700,
                "start": 31,
                "end": 36,
                "properties": {
                  "label": "HAS_RIGHTS"
                },
                "label": "HAS_RIGHTS",
                "color": "#CDDC39",
                "thickness_factor": 1,
                "directed": true
              },
              {
                "id": 1159695595745575000,
                "start": 31,
                "end": 37,
                "properties": {
                  "label": "HAS_RIGHTS"
                },
                "label": "HAS_RIGHTS",
                "color": "#CDDC39",
                "thickness_factor": 1,
                "directed": true
              },
              {
                "id": 1152941295816147000,
                "start": 31,
                "end": 38,
                "properties": {
                  "label": "RESIDED_IN"
                },
                "label": "RESIDED_IN",
                "color": "#9E9E9E",
                "thickness_factor": 1,
                "directed": true
              },
              {
                "id": 1152936897769635800,
                "start": 39,
                "end": 23,
                "properties": {
                  "label": "CHILD_OF"
                },
                "label": "CHILD_OF",
                "color": "#4CAF50",
                "thickness_factor": 1,
                "directed": true
              },
              {
                "id": 1155188697583321000,
                "start": 39,
                "end": 27,
                "properties": {
                  "label": "CHILD_OF"
                },
                "label": "CHILD_OF",
                "color": "#4CAF50",
                "thickness_factor": 1,
                "directed": true
              },
              {
                "id": 1152952290932424700,
                "start": 39,
                "end": 50,
                "properties": {
                  "label": "SETTLED"
                },
                "label": "SETTLED",
                "color": "#F44336",
                "thickness_factor": 1,
                "directed": true
              },
              {
                "id": 1152954489955680300,
                "start": 39,
                "end": 50,
                "properties": {
                  "label": "TOOK_OVER_ADMINISTRATION"
                },
                "label": "TOOK_OVER_ADMINISTRATION",
                "color": "#9C27B0",
                "thickness_factor": 1,
                "directed": true
              },
              {
                "id": 1152961087025447000,
                "start": 39,
                "end": 67,
                "properties": {
                  "label": "FOUNDED"
                },
                "label": "FOUNDED",
                "color": "#2196F3",
                "thickness_factor": 1,
                "directed": true
              },
              {
                "id": 6917582903710843000,
                "start": 39,
                "end": 67,
                "properties": {
                  "label": "PART_OF"
                },
                "label": "PART_OF",
                "color": "#4CAF50",
                "thickness_factor": 1,
                "directed": true
              },
              {
                "id": 1152951191420797000,
                "start": 52,
                "end": 50,
                "properties": {
                  "label": "ADMINISTRATOR"
                },
                "label": "ADMINISTRATOR",
                "color": "#F44336",
                "thickness_factor": 1,
                "directed": true
              },
              {
                "id": 1152953390444052500,
                "start": 52,
                "end": 55,
                "properties": {
                  "label": "DIED"
                },
                "label": "DIED",
                "color": "#607D8B",
                "thickness_factor": 1,
                "directed": true
              },
              {
                "id": 1152950091909169200,
                "start": 54,
                "end": 52,
                "properties": {
                  "label": "APPOINTED"
                },
                "label": "APPOINTED",
                "color": "#2196F3",
                "thickness_factor": 1,
                "directed": true
              }
            ],
            "_graph_layout": {},
            "_highlight": [],
            "_license": {},
            "_model_module": "yfiles-jupyter-graphs",
            "_model_module_version": "^1.8.1",
            "_model_name": "GraphModel",
            "_neighborhood": {},
            "_nodes": [
              {
                "id": 1,
                "properties": {
                  "id": "Shivaji I",
                  "label": "__Entity__:Person"
                },
                "color": "#2196F3",
                "styles": {},
                "label": "Shivaji I",
                "scale_factor": 1,
                "type": "#2196F3",
                "size": [
                  55,
                  55
                ],
                "position": [
                  0,
                  0
                ]
              },
              {
                "id": 2,
                "properties": {
                  "id": "Bhonsle Dynasty",
                  "label": "__Entity__:Group"
                },
                "color": "#4CAF50",
                "styles": {},
                "label": "Bhonsle Dynasty",
                "scale_factor": 1,
                "type": "#4CAF50",
                "size": [
                  55,
                  55
                ],
                "position": [
                  0,
                  0
                ]
              },
              {
                "id": 21,
                "properties": {
                  "id": "Maratha Family",
                  "label": "__Entity__:Group"
                },
                "color": "#4CAF50",
                "styles": {},
                "label": "Maratha Family",
                "scale_factor": 1,
                "type": "#4CAF50",
                "size": [
                  55,
                  55
                ],
                "position": [
                  0,
                  0
                ]
              },
              {
                "id": 22,
                "properties": {
                  "id": "Bhonsle Clan",
                  "label": "__Entity__:Group"
                },
                "color": "#4CAF50",
                "styles": {},
                "label": "Bhonsle Clan",
                "scale_factor": 1,
                "type": "#4CAF50",
                "size": [
                  55,
                  55
                ],
                "position": [
                  0,
                  0
                ]
              },
              {
                "id": 3,
                "properties": {
                  "id": "Sultanate Of Bijapur",
                  "label": "__Entity__:Group"
                },
                "color": "#4CAF50",
                "styles": {},
                "label": "Sultanate Of Bijapur",
                "scale_factor": 1,
                "type": "#4CAF50",
                "size": [
                  55,
                  55
                ],
                "position": [
                  0,
                  0
                ]
              },
              {
                "id": 4,
                "properties": {
                  "id": "Maratha Confederacy",
                  "label": "__Entity__:Group"
                },
                "color": "#4CAF50",
                "styles": {},
                "label": "Maratha Confederacy",
                "scale_factor": 1,
                "type": "#4CAF50",
                "size": [
                  55,
                  55
                ],
                "position": [
                  0,
                  0
                ]
              },
              {
                "id": 10,
                "properties": {
                  "id": "Maratha Navy",
                  "label": "__Entity__:Group"
                },
                "color": "#4CAF50",
                "styles": {},
                "label": "Maratha Navy",
                "scale_factor": 1,
                "type": "#4CAF50",
                "size": [
                  55,
                  55
                ],
                "position": [
                  0,
                  0
                ]
              },
              {
                "id": 15,
                "properties": {
                  "id": "Swaraj Movement",
                  "label": "__Entity__:Event"
                },
                "color": "#F44336",
                "styles": {},
                "label": "Swaraj Movement",
                "scale_factor": 1,
                "type": "#F44336",
                "size": [
                  55,
                  55
                ],
                "position": [
                  0,
                  0
                ]
              },
              {
                "id": 5,
                "properties": {
                  "id": "Raigad Fort",
                  "label": "__Entity__:Location"
                },
                "color": "#607D8B",
                "styles": {},
                "label": "Raigad Fort",
                "scale_factor": 1,
                "type": "#607D8B",
                "size": [
                  55,
                  55
                ],
                "position": [
                  0,
                  0
                ]
              },
              {
                "id": 6,
                "properties": {
                  "id": "Mughal Empire",
                  "label": "__Entity__:Group:Organization"
                },
                "color": "#673AB7",
                "styles": {},
                "label": "Mughal Empire",
                "scale_factor": 1,
                "type": "#673AB7",
                "size": [
                  55,
                  55
                ],
                "position": [
                  0,
                  0
                ]
              },
              {
                "id": 7,
                "properties": {
                  "id": "Sultanate Of Golconda",
                  "label": "__Entity__:Group"
                },
                "color": "#4CAF50",
                "styles": {},
                "label": "Sultanate Of Golconda",
                "scale_factor": 1,
                "type": "#4CAF50",
                "size": [
                  55,
                  55
                ],
                "position": [
                  0,
                  0
                ]
              },
              {
                "id": 8,
                "properties": {
                  "id": "European Colonial Powers",
                  "label": "__Entity__:Group"
                },
                "color": "#4CAF50",
                "styles": {},
                "label": "European Colonial Powers",
                "scale_factor": 1,
                "type": "#4CAF50",
                "size": [
                  55,
                  55
                ],
                "position": [
                  0,
                  0
                ]
              },
              {
                "id": 9,
                "properties": {
                  "id": "Battle Of Purandar",
                  "label": "__Entity__:Event"
                },
                "color": "#F44336",
                "styles": {},
                "label": "Battle Of Purandar",
                "scale_factor": 1,
                "type": "#F44336",
                "size": [
                  55,
                  55
                ],
                "position": [
                  0,
                  0
                ]
              },
              {
                "id": 11,
                "properties": {
                  "id": "Marathi Language",
                  "label": "__Entity__:Concept"
                },
                "color": "#CDDC39",
                "styles": {},
                "label": "Marathi Language",
                "scale_factor": 1,
                "type": "#CDDC39",
                "size": [
                  55,
                  55
                ],
                "position": [
                  0,
                  0
                ]
              },
              {
                "id": 12,
                "properties": {
                  "id": "Sanskrit Language",
                  "label": "__Entity__:Concept"
                },
                "color": "#CDDC39",
                "styles": {},
                "label": "Sanskrit Language",
                "scale_factor": 1,
                "type": "#CDDC39",
                "size": [
                  55,
                  55
                ],
                "position": [
                  0,
                  0
                ]
              },
              {
                "id": 13,
                "properties": {
                  "id": "Persian Language",
                  "label": "__Entity__:Concept"
                },
                "color": "#CDDC39",
                "styles": {},
                "label": "Persian Language",
                "scale_factor": 1,
                "type": "#CDDC39",
                "size": [
                  55,
                  55
                ],
                "position": [
                  0,
                  0
                ]
              },
              {
                "id": 14,
                "properties": {
                  "id": "Indian Independence Movement",
                  "label": "__Entity__:Event"
                },
                "color": "#F44336",
                "styles": {},
                "label": "Indian Independence Movement",
                "scale_factor": 1,
                "type": "#F44336",
                "size": [
                  55,
                  55
                ],
                "position": [
                  0,
                  0
                ]
              },
              {
                "id": 16,
                "properties": {
                  "id": "Shivneri",
                  "label": "__Entity__:Location"
                },
                "color": "#607D8B",
                "styles": {},
                "label": "Shivneri",
                "scale_factor": 1,
                "type": "#607D8B",
                "size": [
                  55,
                  55
                ],
                "position": [
                  0,
                  0
                ]
              },
              {
                "id": 20,
                "properties": {
                  "id": "Shivai Devi",
                  "label": "__Entity__:Person"
                },
                "color": "#2196F3",
                "styles": {},
                "label": "Shivai Devi",
                "scale_factor": 1,
                "type": "#2196F3",
                "size": [
                  55,
                  55
                ],
                "position": [
                  0,
                  0
                ]
              },
              {
                "id": 23,
                "properties": {
                  "id": "Shahaji Bhonsle",
                  "label": "__Entity__:Person"
                },
                "color": "#2196F3",
                "styles": {},
                "label": "Shahaji Bhonsle",
                "scale_factor": 1,
                "type": "#2196F3",
                "size": [
                  55,
                  55
                ],
                "position": [
                  0,
                  0
                ]
              },
              {
                "id": 24,
                "properties": {
                  "id": "Deccan Sultanates",
                  "label": "__Entity__:Group:Organization"
                },
                "color": "#673AB7",
                "styles": {},
                "label": "Deccan Sultanates",
                "scale_factor": 1,
                "type": "#673AB7",
                "size": [
                  55,
                  55
                ],
                "position": [
                  0,
                  0
                ]
              },
              {
                "id": 26,
                "properties": {
                  "id": "Maratha General",
                  "label": "__Entity__:Occupation"
                },
                "color": "#9E9E9E",
                "styles": {},
                "label": "Maratha General",
                "scale_factor": 1,
                "type": "#9E9E9E",
                "size": [
                  55,
                  55
                ],
                "position": [
                  0,
                  0
                ]
              },
              {
                "id": 43,
                "properties": {
                  "id": "Nizamshahi Of Ahmadnagar",
                  "label": "__Entity__:Organization"
                },
                "color": "#9C27B0",
                "styles": {},
                "label": "Nizamshahi Of Ahmadnagar",
                "scale_factor": 1,
                "type": "#9C27B0",
                "size": [
                  55,
                  55
                ],
                "position": [
                  0,
                  0
                ]
              },
              {
                "id": 44,
                "properties": {
                  "id": "Adilshah Of Bijapur",
                  "label": "__Entity__:Person"
                },
                "color": "#2196F3",
                "styles": {},
                "label": "Adilshah Of Bijapur",
                "scale_factor": 1,
                "type": "#2196F3",
                "size": [
                  55,
                  55
                ],
                "position": [
                  0,
                  0
                ]
              },
              {
                "id": 45,
                "properties": {
                  "id": "Jagir",
                  "label": "__Entity__:Concept"
                },
                "color": "#CDDC39",
                "styles": {},
                "label": "Jagir",
                "scale_factor": 1,
                "type": "#CDDC39",
                "size": [
                  55,
                  55
                ],
                "position": [
                  0,
                  0
                ]
              },
              {
                "id": 46,
                "properties": {
                  "id": "Adil Shahi Sultanate Of Bijapur",
                  "label": "__Entity__:Organization"
                },
                "color": "#9C27B0",
                "styles": {},
                "label": "Adil Shahi Sultanate Of Bijapur",
                "scale_factor": 1,
                "type": "#9C27B0",
                "size": [
                  55,
                  55
                ],
                "position": [
                  0,
                  0
                ]
              },
              {
                "id": 48,
                "properties": {
                  "id": "Jagir Land",
                  "label": "__Entity__:Concept"
                },
                "color": "#CDDC39",
                "styles": {},
                "label": "Jagir Land",
                "scale_factor": 1,
                "type": "#CDDC39",
                "size": [
                  55,
                  55
                ],
                "position": [
                  0,
                  0
                ]
              },
              {
                "id": 49,
                "properties": {
                  "id": "Mughal Army",
                  "label": "__Entity__:Organization"
                },
                "color": "#9C27B0",
                "styles": {},
                "label": "Mughal Army",
                "scale_factor": 1,
                "type": "#9C27B0",
                "size": [
                  55,
                  55
                ],
                "position": [
                  0,
                  0
                ]
              },
              {
                "id": 50,
                "properties": {
                  "id": "Poona",
                  "label": "__Entity__:Location:Place"
                },
                "color": "#2196F3",
                "styles": {},
                "label": "Poona",
                "scale_factor": 1,
                "type": "#2196F3",
                "size": [
                  55,
                  55
                ],
                "position": [
                  0,
                  0
                ]
              },
              {
                "id": 51,
                "properties": {
                  "id": "Bijapuri Ruler Adilshah",
                  "label": "__Entity__:Person"
                },
                "color": "#2196F3",
                "styles": {},
                "label": "Bijapuri Ruler Adilshah",
                "scale_factor": 1,
                "type": "#2196F3",
                "size": [
                  55,
                  55
                ],
                "position": [
                  0,
                  0
                ]
              },
              {
                "id": 52,
                "properties": {
                  "id": "Dadoji Kondadeo",
                  "label": "__Entity__:Person"
                },
                "color": "#2196F3",
                "styles": {},
                "label": "Dadoji Kondadeo",
                "scale_factor": 1,
                "type": "#2196F3",
                "size": [
                  55,
                  55
                ],
                "position": [
                  0,
                  0
                ]
              },
              {
                "id": 27,
                "properties": {
                  "id": "Jijabai",
                  "label": "__Entity__:Person"
                },
                "color": "#2196F3",
                "styles": {},
                "label": "Jijabai",
                "scale_factor": 1,
                "type": "#2196F3",
                "size": [
                  55,
                  55
                ],
                "position": [
                  0,
                  0
                ]
              },
              {
                "id": 28,
                "properties": {
                  "id": "Lakhuji Jadhavrao Of Sindhkhed",
                  "label": "__Entity__:Person"
                },
                "color": "#2196F3",
                "styles": {},
                "label": "Lakhuji Jadhavrao Of Sindhkhed",
                "scale_factor": 1,
                "type": "#2196F3",
                "size": [
                  55,
                  55
                ],
                "position": [
                  0,
                  0
                ]
              },
              {
                "id": 29,
                "properties": {
                  "id": "Mughal-Aligned Sardar",
                  "label": "__Entity__:Occupation"
                },
                "color": "#9E9E9E",
                "styles": {},
                "label": "Mughal-Aligned Sardar",
                "scale_factor": 1,
                "type": "#9E9E9E",
                "size": [
                  55,
                  55
                ],
                "position": [
                  0,
                  0
                ]
              },
              {
                "id": 30,
                "properties": {
                  "id": "Yadav Royal Family Of Devagiri",
                  "label": "__Entity__:Family"
                },
                "color": "#4CAF50",
                "styles": {},
                "label": "Yadav Royal Family Of Devagiri",
                "scale_factor": 1,
                "type": "#4CAF50",
                "size": [
                  55,
                  55
                ],
                "position": [
                  0,
                  0
                ]
              },
              {
                "id": 31,
                "properties": {
                  "id": "Maloji",
                  "label": "__Entity__:Person"
                },
                "color": "#2196F3",
                "styles": {},
                "label": "Maloji",
                "scale_factor": 1,
                "type": "#2196F3",
                "size": [
                  55,
                  55
                ],
                "position": [
                  0,
                  0
                ]
              },
              {
                "id": 32,
                "properties": {
                  "id": "Ahmadnagar Sultanate",
                  "label": "__Entity__:Organization"
                },
                "color": "#9C27B0",
                "styles": {},
                "label": "Ahmadnagar Sultanate",
                "scale_factor": 1,
                "type": "#9C27B0",
                "size": [
                  55,
                  55
                ],
                "position": [
                  0,
                  0
                ]
              },
              {
                "id": 33,
                "properties": {
                  "id": "Raja",
                  "label": "__Entity__:Title"
                },
                "color": "#F44336",
                "styles": {},
                "label": "Raja",
                "scale_factor": 1,
                "type": "#F44336",
                "size": [
                  55,
                  55
                ],
                "position": [
                  0,
                  0
                ]
              },
              {
                "id": 34,
                "properties": {
                  "id": "Pune",
                  "label": "__Entity__:Location"
                },
                "color": "#607D8B",
                "styles": {},
                "label": "Pune",
                "scale_factor": 1,
                "type": "#607D8B",
                "size": [
                  55,
                  55
                ],
                "position": [
                  0,
                  0
                ]
              },
              {
                "id": 35,
                "properties": {
                  "id": "Supe",
                  "label": "__Entity__:Location"
                },
                "color": "#607D8B",
                "styles": {},
                "label": "Supe",
                "scale_factor": 1,
                "type": "#607D8B",
                "size": [
                  55,
                  55
                ],
                "position": [
                  0,
                  0
                ]
              },
              {
                "id": 36,
                "properties": {
                  "id": "Chakan",
                  "label": "__Entity__:Location"
                },
                "color": "#607D8B",
                "styles": {},
                "label": "Chakan",
                "scale_factor": 1,
                "type": "#607D8B",
                "size": [
                  55,
                  55
                ],
                "position": [
                  0,
                  0
                ]
              },
              {
                "id": 37,
                "properties": {
                  "id": "Indapur",
                  "label": "__Entity__:Location"
                },
                "color": "#607D8B",
                "styles": {},
                "label": "Indapur",
                "scale_factor": 1,
                "type": "#607D8B",
                "size": [
                  55,
                  55
                ],
                "position": [
                  0,
                  0
                ]
              },
              {
                "id": 38,
                "properties": {
                  "id": "Fort Shivneri",
                  "label": "__Entity__:Location"
                },
                "color": "#607D8B",
                "styles": {},
                "label": "Fort Shivneri",
                "scale_factor": 1,
                "type": "#607D8B",
                "size": [
                  55,
                  55
                ],
                "position": [
                  0,
                  0
                ]
              },
              {
                "id": 39,
                "properties": {
                  "id": "Shivaji",
                  "label": "__Entity__:Person"
                },
                "color": "#2196F3",
                "styles": {},
                "label": "Shivaji",
                "scale_factor": 1,
                "type": "#2196F3",
                "size": [
                  55,
                  55
                ],
                "position": [
                  0,
                  0
                ]
              },
              {
                "id": 67,
                "properties": {
                  "id": "Maratha Empire",
                  "label": "__Entity__:Organization"
                },
                "color": "#9C27B0",
                "styles": {},
                "label": "Maratha Empire",
                "scale_factor": 1,
                "type": "#9C27B0",
                "size": [
                  55,
                  55
                ],
                "position": [
                  0,
                  0
                ]
              },
              {
                "id": 55,
                "properties": {
                  "id": "1647",
                  "label": "__Entity__:Time"
                },
                "color": "#607D8B",
                "styles": {},
                "label": "1647",
                "scale_factor": 1,
                "type": "#607D8B",
                "size": [
                  55,
                  55
                ],
                "position": [
                  0,
                  0
                ]
              },
              {
                "id": 54,
                "properties": {
                  "id": "Ah",
                  "label": "__Entity__:Person"
                },
                "color": "#2196F3",
                "styles": {},
                "label": "Ah",
                "scale_factor": 1,
                "type": "#2196F3",
                "size": [
                  55,
                  55
                ],
                "position": [
                  0,
                  0
                ]
              }
            ],
            "_overview": {
              "enabled": null,
              "overview_set": false
            },
            "_selected_graph": [
              [
                {
                  "id": 23,
                  "properties": {
                    "id": "Shahaji Bhonsle",
                    "label": "__Entity__:Person"
                  }
                }
              ],
              []
            ],
            "_sidebar": {
              "enabled": false,
              "start_with": null
            },
            "_view_count": null,
            "_view_module": "yfiles-jupyter-graphs",
            "_view_module_version": "^1.8.1",
            "_view_name": "GraphView",
            "layout": "IPY_MODEL_578f62f690c741ef9a91e8cd3e02ee42",
            "tabbable": null,
            "tooltip": null
          }
        },
        "578f62f690c741ef9a91e8cd3e02ee42": {
          "model_module": "@jupyter-widgets/base",
          "model_name": "LayoutModel",
          "model_module_version": "2.0.0",
          "state": {
            "_model_module": "@jupyter-widgets/base",
            "_model_module_version": "2.0.0",
            "_model_name": "LayoutModel",
            "_view_count": null,
            "_view_module": "@jupyter-widgets/base",
            "_view_module_version": "2.0.0",
            "_view_name": "LayoutView",
            "align_content": null,
            "align_items": null,
            "align_self": null,
            "border_bottom": null,
            "border_left": null,
            "border_right": null,
            "border_top": null,
            "bottom": null,
            "display": null,
            "flex": null,
            "flex_flow": null,
            "grid_area": null,
            "grid_auto_columns": null,
            "grid_auto_flow": null,
            "grid_auto_rows": null,
            "grid_column": null,
            "grid_gap": null,
            "grid_row": null,
            "grid_template_areas": null,
            "grid_template_columns": null,
            "grid_template_rows": null,
            "height": "800px",
            "justify_content": null,
            "justify_items": null,
            "left": null,
            "margin": null,
            "max_height": null,
            "max_width": null,
            "min_height": null,
            "min_width": null,
            "object_fit": null,
            "object_position": null,
            "order": null,
            "overflow": null,
            "padding": null,
            "right": null,
            "top": null,
            "visibility": null,
            "width": "100%"
          }
        }
      }
    }
  },
  "cells": [
    {
      "cell_type": "markdown",
      "metadata": {
        "id": "view-in-github",
        "colab_type": "text"
      },
      "source": [
        "<a href=\"https://colab.research.google.com/github/Dibya069/Generative_AI-Codes-to-learn-/blob/main/Knowledge_Graph_Initial(with_Neo4j).ipynb\" target=\"_parent\"><img src=\"https://colab.research.google.com/assets/colab-badge.svg\" alt=\"Open In Colab\"/></a>"
      ]
    },
    {
      "cell_type": "code",
      "execution_count": null,
      "metadata": {
        "colab": {
          "base_uri": "https://localhost:8080/"
        },
        "id": "ZRxO3g_aIlRQ",
        "outputId": "78c30523-de79-4157-98ef-7aeacd1fcf26"
      },
      "outputs": [
        {
          "output_type": "stream",
          "name": "stdout",
          "text": [
            "\u001b[2K     \u001b[90m━━━━━━━━━━━━━━━━━━━━━━━━━━━━━━━━━━━━━━━━\u001b[0m \u001b[32m50.4/50.4 kB\u001b[0m \u001b[31m333.0 kB/s\u001b[0m eta \u001b[36m0:00:00\u001b[0m\n",
            "\u001b[2K   \u001b[90m━━━━━━━━━━━━━━━━━━━━━━━━━━━━━━━━━━━━━━━━\u001b[0m \u001b[32m1.0/1.0 MB\u001b[0m \u001b[31m27.2 MB/s\u001b[0m eta \u001b[36m0:00:00\u001b[0m\n",
            "\u001b[2K   \u001b[90m━━━━━━━━━━━━━━━━━━━━━━━━━━━━━━━━━━━━━━━━\u001b[0m \u001b[32m2.3/2.3 MB\u001b[0m \u001b[31m56.4 MB/s\u001b[0m eta \u001b[36m0:00:00\u001b[0m\n",
            "\u001b[2K   \u001b[90m━━━━━━━━━━━━━━━━━━━━━━━━━━━━━━━━━━━━━━━━\u001b[0m \u001b[32m294.6/294.6 kB\u001b[0m \u001b[31m18.0 MB/s\u001b[0m eta \u001b[36m0:00:00\u001b[0m\n",
            "\u001b[2K   \u001b[90m━━━━━━━━━━━━━━━━━━━━━━━━━━━━━━━━━━━━━━━━\u001b[0m \u001b[32m396.4/396.4 kB\u001b[0m \u001b[31m20.4 MB/s\u001b[0m eta \u001b[36m0:00:00\u001b[0m\n",
            "\u001b[2K   \u001b[90m━━━━━━━━━━━━━━━━━━━━━━━━━━━━━━━━━━━━━━━━\u001b[0m \u001b[32m52.0/52.0 kB\u001b[0m \u001b[31m3.4 MB/s\u001b[0m eta \u001b[36m0:00:00\u001b[0m\n",
            "\u001b[2K   \u001b[90m━━━━━━━━━━━━━━━━━━━━━━━━━━━━━━━━━━━━━━━━\u001b[0m \u001b[32m106.5/106.5 kB\u001b[0m \u001b[31m7.9 MB/s\u001b[0m eta \u001b[36m0:00:00\u001b[0m\n",
            "\u001b[2K   \u001b[90m━━━━━━━━━━━━━━━━━━━━━━━━━━━━━━━━━━━━━━━━\u001b[0m \u001b[32m290.5/290.5 kB\u001b[0m \u001b[31m20.2 MB/s\u001b[0m eta \u001b[36m0:00:00\u001b[0m\n",
            "\u001b[2K   \u001b[90m━━━━━━━━━━━━━━━━━━━━━━━━━━━━━━━━━━━━━━━━\u001b[0m \u001b[32m373.5/373.5 kB\u001b[0m \u001b[31m22.6 MB/s\u001b[0m eta \u001b[36m0:00:00\u001b[0m\n",
            "\u001b[2K   \u001b[90m━━━━━━━━━━━━━━━━━━━━━━━━━━━━━━━━━━━━━━━━\u001b[0m \u001b[32m1.1/1.1 MB\u001b[0m \u001b[31m48.6 MB/s\u001b[0m eta \u001b[36m0:00:00\u001b[0m\n",
            "\u001b[2K   \u001b[90m━━━━━━━━━━━━━━━━━━━━━━━━━━━━━━━━━━━━━━━━\u001b[0m \u001b[32m76.4/76.4 kB\u001b[0m \u001b[31m6.3 MB/s\u001b[0m eta \u001b[36m0:00:00\u001b[0m\n",
            "\u001b[2K   \u001b[90m━━━━━━━━━━━━━━━━━━━━━━━━━━━━━━━━━━━━━━━━\u001b[0m \u001b[32m77.9/77.9 kB\u001b[0m \u001b[31m5.6 MB/s\u001b[0m eta \u001b[36m0:00:00\u001b[0m\n",
            "\u001b[2K   \u001b[90m━━━━━━━━━━━━━━━━━━━━━━━━━━━━━━━━━━━━━━━━\u001b[0m \u001b[32m318.9/318.9 kB\u001b[0m \u001b[31m20.5 MB/s\u001b[0m eta \u001b[36m0:00:00\u001b[0m\n",
            "\u001b[2K   \u001b[90m━━━━━━━━━━━━━━━━━━━━━━━━━━━━━━━━━━━━━━━━\u001b[0m \u001b[32m49.3/49.3 kB\u001b[0m \u001b[31m3.3 MB/s\u001b[0m eta \u001b[36m0:00:00\u001b[0m\n",
            "\u001b[2K   \u001b[90m━━━━━━━━━━━━━━━━━━━━━━━━━━━━━━━━━━━━━━━━\u001b[0m \u001b[32m141.9/141.9 kB\u001b[0m \u001b[31m9.1 MB/s\u001b[0m eta \u001b[36m0:00:00\u001b[0m\n",
            "\u001b[2K   \u001b[90m━━━━━━━━━━━━━━━━━━━━━━━━━━━━━━━━━━━━━━━━\u001b[0m \u001b[32m58.3/58.3 kB\u001b[0m \u001b[31m4.2 MB/s\u001b[0m eta \u001b[36m0:00:00\u001b[0m\n",
            "\u001b[?25h"
          ]
        }
      ],
      "source": [
        "!pip install --upgrade --quiet langchain langchain-community langchain-groq neo4j langchain-core langchain-openai"
      ]
    },
    {
      "cell_type": "code",
      "source": [
        "from google.colab import userdata\n",
        "import os\n",
        "\n",
        "os.environ[\"OPENAI_API_KEY\"] = userdata.get('OPENAI_API_KEY')"
      ],
      "metadata": {
        "id": "rPwwMvLZPAl3"
      },
      "execution_count": null,
      "outputs": []
    },
    {
      "cell_type": "code",
      "source": [
        "NEO4J_URI=\"neo4j+s://5b0bae3f.databases.neo4j.io\"\n",
        "NEO4J_USERNAME=\"neo4j\"\n",
        "NEO4J_PASSWORD=\"IcKlw7cdBiDAuqQKHOfc8ijbXG2Nq0KOrPbVhEYcZWI\"\n",
        "AURA_INSTANCEID=\"5b0bae3f\"\n",
        "AURA_INSTANCENAME=\"Instance01\""
      ],
      "metadata": {
        "id": "BdlZniGqJB9f"
      },
      "execution_count": null,
      "outputs": []
    },
    {
      "cell_type": "markdown",
      "source": [
        "***"
      ],
      "metadata": {
        "id": "VCx9Ug-aPtWJ"
      }
    },
    {
      "cell_type": "markdown",
      "source": [
        "## New_Ways_1"
      ],
      "metadata": {
        "id": "w4WaZd1OPuy0"
      }
    },
    {
      "cell_type": "code",
      "source": [
        "!pip install wikipedia langchain_experimental"
      ],
      "metadata": {
        "colab": {
          "base_uri": "https://localhost:8080/"
        },
        "id": "99_4IBvYRTKN",
        "outputId": "9384c2d0-a597-4ac4-c883-7eb3c6ec90da"
      },
      "execution_count": null,
      "outputs": [
        {
          "output_type": "stream",
          "name": "stdout",
          "text": [
            "Requirement already satisfied: wikipedia in /usr/local/lib/python3.10/dist-packages (1.4.0)\n",
            "Collecting langchain_experimental\n",
            "  Downloading langchain_experimental-0.0.65-py3-none-any.whl.metadata (1.7 kB)\n",
            "Requirement already satisfied: beautifulsoup4 in /usr/local/lib/python3.10/dist-packages (from wikipedia) (4.12.3)\n",
            "Requirement already satisfied: requests<3.0.0,>=2.0.0 in /usr/local/lib/python3.10/dist-packages (from wikipedia) (2.32.3)\n",
            "Requirement already satisfied: langchain-community<0.3.0,>=0.2.16 in /usr/local/lib/python3.10/dist-packages (from langchain_experimental) (0.2.16)\n",
            "Requirement already satisfied: langchain-core<0.3.0,>=0.2.38 in /usr/local/lib/python3.10/dist-packages (from langchain_experimental) (0.2.38)\n",
            "Requirement already satisfied: PyYAML>=5.3 in /usr/local/lib/python3.10/dist-packages (from langchain-community<0.3.0,>=0.2.16->langchain_experimental) (6.0.2)\n",
            "Requirement already satisfied: SQLAlchemy<3,>=1.4 in /usr/local/lib/python3.10/dist-packages (from langchain-community<0.3.0,>=0.2.16->langchain_experimental) (2.0.32)\n",
            "Requirement already satisfied: aiohttp<4.0.0,>=3.8.3 in /usr/local/lib/python3.10/dist-packages (from langchain-community<0.3.0,>=0.2.16->langchain_experimental) (3.10.5)\n",
            "Requirement already satisfied: dataclasses-json<0.7,>=0.5.7 in /usr/local/lib/python3.10/dist-packages (from langchain-community<0.3.0,>=0.2.16->langchain_experimental) (0.6.7)\n",
            "Requirement already satisfied: langchain<0.3.0,>=0.2.16 in /usr/local/lib/python3.10/dist-packages (from langchain-community<0.3.0,>=0.2.16->langchain_experimental) (0.2.16)\n",
            "Requirement already satisfied: langsmith<0.2.0,>=0.1.0 in /usr/local/lib/python3.10/dist-packages (from langchain-community<0.3.0,>=0.2.16->langchain_experimental) (0.1.117)\n",
            "Requirement already satisfied: numpy<2,>=1 in /usr/local/lib/python3.10/dist-packages (from langchain-community<0.3.0,>=0.2.16->langchain_experimental) (1.26.4)\n",
            "Requirement already satisfied: tenacity!=8.4.0,<9.0.0,>=8.1.0 in /usr/local/lib/python3.10/dist-packages (from langchain-community<0.3.0,>=0.2.16->langchain_experimental) (8.5.0)\n",
            "Requirement already satisfied: jsonpatch<2.0,>=1.33 in /usr/local/lib/python3.10/dist-packages (from langchain-core<0.3.0,>=0.2.38->langchain_experimental) (1.33)\n",
            "Requirement already satisfied: packaging<25,>=23.2 in /usr/local/lib/python3.10/dist-packages (from langchain-core<0.3.0,>=0.2.38->langchain_experimental) (24.1)\n",
            "Requirement already satisfied: pydantic<3,>=1 in /usr/local/lib/python3.10/dist-packages (from langchain-core<0.3.0,>=0.2.38->langchain_experimental) (2.8.2)\n",
            "Requirement already satisfied: typing-extensions>=4.7 in /usr/local/lib/python3.10/dist-packages (from langchain-core<0.3.0,>=0.2.38->langchain_experimental) (4.12.2)\n",
            "Requirement already satisfied: charset-normalizer<4,>=2 in /usr/local/lib/python3.10/dist-packages (from requests<3.0.0,>=2.0.0->wikipedia) (3.3.2)\n",
            "Requirement already satisfied: idna<4,>=2.5 in /usr/local/lib/python3.10/dist-packages (from requests<3.0.0,>=2.0.0->wikipedia) (3.8)\n",
            "Requirement already satisfied: urllib3<3,>=1.21.1 in /usr/local/lib/python3.10/dist-packages (from requests<3.0.0,>=2.0.0->wikipedia) (2.0.7)\n",
            "Requirement already satisfied: certifi>=2017.4.17 in /usr/local/lib/python3.10/dist-packages (from requests<3.0.0,>=2.0.0->wikipedia) (2024.8.30)\n",
            "Requirement already satisfied: soupsieve>1.2 in /usr/local/lib/python3.10/dist-packages (from beautifulsoup4->wikipedia) (2.6)\n",
            "Requirement already satisfied: aiohappyeyeballs>=2.3.0 in /usr/local/lib/python3.10/dist-packages (from aiohttp<4.0.0,>=3.8.3->langchain-community<0.3.0,>=0.2.16->langchain_experimental) (2.4.0)\n",
            "Requirement already satisfied: aiosignal>=1.1.2 in /usr/local/lib/python3.10/dist-packages (from aiohttp<4.0.0,>=3.8.3->langchain-community<0.3.0,>=0.2.16->langchain_experimental) (1.3.1)\n",
            "Requirement already satisfied: attrs>=17.3.0 in /usr/local/lib/python3.10/dist-packages (from aiohttp<4.0.0,>=3.8.3->langchain-community<0.3.0,>=0.2.16->langchain_experimental) (24.2.0)\n",
            "Requirement already satisfied: frozenlist>=1.1.1 in /usr/local/lib/python3.10/dist-packages (from aiohttp<4.0.0,>=3.8.3->langchain-community<0.3.0,>=0.2.16->langchain_experimental) (1.4.1)\n",
            "Requirement already satisfied: multidict<7.0,>=4.5 in /usr/local/lib/python3.10/dist-packages (from aiohttp<4.0.0,>=3.8.3->langchain-community<0.3.0,>=0.2.16->langchain_experimental) (6.0.5)\n",
            "Requirement already satisfied: yarl<2.0,>=1.0 in /usr/local/lib/python3.10/dist-packages (from aiohttp<4.0.0,>=3.8.3->langchain-community<0.3.0,>=0.2.16->langchain_experimental) (1.9.4)\n",
            "Requirement already satisfied: async-timeout<5.0,>=4.0 in /usr/local/lib/python3.10/dist-packages (from aiohttp<4.0.0,>=3.8.3->langchain-community<0.3.0,>=0.2.16->langchain_experimental) (4.0.3)\n",
            "Requirement already satisfied: marshmallow<4.0.0,>=3.18.0 in /usr/local/lib/python3.10/dist-packages (from dataclasses-json<0.7,>=0.5.7->langchain-community<0.3.0,>=0.2.16->langchain_experimental) (3.22.0)\n",
            "Requirement already satisfied: typing-inspect<1,>=0.4.0 in /usr/local/lib/python3.10/dist-packages (from dataclasses-json<0.7,>=0.5.7->langchain-community<0.3.0,>=0.2.16->langchain_experimental) (0.9.0)\n",
            "Requirement already satisfied: jsonpointer>=1.9 in /usr/local/lib/python3.10/dist-packages (from jsonpatch<2.0,>=1.33->langchain-core<0.3.0,>=0.2.38->langchain_experimental) (3.0.0)\n",
            "Requirement already satisfied: langchain-text-splitters<0.3.0,>=0.2.0 in /usr/local/lib/python3.10/dist-packages (from langchain<0.3.0,>=0.2.16->langchain-community<0.3.0,>=0.2.16->langchain_experimental) (0.2.4)\n",
            "Requirement already satisfied: httpx<1,>=0.23.0 in /usr/local/lib/python3.10/dist-packages (from langsmith<0.2.0,>=0.1.0->langchain-community<0.3.0,>=0.2.16->langchain_experimental) (0.27.2)\n",
            "Requirement already satisfied: orjson<4.0.0,>=3.9.14 in /usr/local/lib/python3.10/dist-packages (from langsmith<0.2.0,>=0.1.0->langchain-community<0.3.0,>=0.2.16->langchain_experimental) (3.10.7)\n",
            "Requirement already satisfied: annotated-types>=0.4.0 in /usr/local/lib/python3.10/dist-packages (from pydantic<3,>=1->langchain-core<0.3.0,>=0.2.38->langchain_experimental) (0.7.0)\n",
            "Requirement already satisfied: pydantic-core==2.20.1 in /usr/local/lib/python3.10/dist-packages (from pydantic<3,>=1->langchain-core<0.3.0,>=0.2.38->langchain_experimental) (2.20.1)\n",
            "Requirement already satisfied: greenlet!=0.4.17 in /usr/local/lib/python3.10/dist-packages (from SQLAlchemy<3,>=1.4->langchain-community<0.3.0,>=0.2.16->langchain_experimental) (3.0.3)\n",
            "Requirement already satisfied: anyio in /usr/local/lib/python3.10/dist-packages (from httpx<1,>=0.23.0->langsmith<0.2.0,>=0.1.0->langchain-community<0.3.0,>=0.2.16->langchain_experimental) (3.7.1)\n",
            "Requirement already satisfied: httpcore==1.* in /usr/local/lib/python3.10/dist-packages (from httpx<1,>=0.23.0->langsmith<0.2.0,>=0.1.0->langchain-community<0.3.0,>=0.2.16->langchain_experimental) (1.0.5)\n",
            "Requirement already satisfied: sniffio in /usr/local/lib/python3.10/dist-packages (from httpx<1,>=0.23.0->langsmith<0.2.0,>=0.1.0->langchain-community<0.3.0,>=0.2.16->langchain_experimental) (1.3.1)\n",
            "Requirement already satisfied: h11<0.15,>=0.13 in /usr/local/lib/python3.10/dist-packages (from httpcore==1.*->httpx<1,>=0.23.0->langsmith<0.2.0,>=0.1.0->langchain-community<0.3.0,>=0.2.16->langchain_experimental) (0.14.0)\n",
            "Requirement already satisfied: mypy-extensions>=0.3.0 in /usr/local/lib/python3.10/dist-packages (from typing-inspect<1,>=0.4.0->dataclasses-json<0.7,>=0.5.7->langchain-community<0.3.0,>=0.2.16->langchain_experimental) (1.0.0)\n",
            "Requirement already satisfied: exceptiongroup in /usr/local/lib/python3.10/dist-packages (from anyio->httpx<1,>=0.23.0->langsmith<0.2.0,>=0.1.0->langchain-community<0.3.0,>=0.2.16->langchain_experimental) (1.2.2)\n",
            "Downloading langchain_experimental-0.0.65-py3-none-any.whl (207 kB)\n",
            "\u001b[2K   \u001b[90m━━━━━━━━━━━━━━━━━━━━━━━━━━━━━━━━━━━━━━━━\u001b[0m \u001b[32m207.2/207.2 kB\u001b[0m \u001b[31m5.4 MB/s\u001b[0m eta \u001b[36m0:00:00\u001b[0m\n",
            "\u001b[?25hInstalling collected packages: langchain_experimental\n",
            "Successfully installed langchain_experimental-0.0.65\n"
          ]
        }
      ]
    },
    {
      "cell_type": "code",
      "source": [
        "from langchain.document_loaders import WikipediaLoader\n",
        "raw_documents = WikipediaLoader(query=\"Shivaji Maharaj\").load()"
      ],
      "metadata": {
        "id": "GTZCrdOdRV1q"
      },
      "execution_count": null,
      "outputs": []
    },
    {
      "cell_type": "code",
      "source": [
        "raw_documents[1]"
      ],
      "metadata": {
        "colab": {
          "base_uri": "https://localhost:8080/"
        },
        "id": "PHlzkpJoSF__",
        "outputId": "4a53ba68-b2a3-40b8-c281-8a03a2d3f23c"
      },
      "execution_count": null,
      "outputs": [
        {
          "output_type": "execute_result",
          "data": {
            "text/plain": [
              "Document(metadata={'title': 'Chhatrapati Shivaji Terminus', 'summary': 'Chhatrapati Shivaji Terminus (officially Chhatrapati Shivaji Maharaj Terminus since 2017, formerly Victoria Terminus (VT), Bombay station code: CSMT (mainline)/ST (suburban)), is a historic railway terminus and UNESCO World Heritage Site in Mumbai, Maharashtra, India.\\nThe terminus was designed by a British architectural engineer Frederick William Stevens from an initial design by Axel Haig, in an exuberant Italian Gothic style. Its construction began in 1878, in a location south of the old Bori Bunder railway station, and was completed in 1887, the year marking 50 years of Queen Victoria\\'s rule.\\n\\nIn March 1996, the station\\'s name was officially changed from \"Victoria Terminus\" to \"Chhatrapati Shivaji Terminus\" (with station code CST) after Shivaji, the 17th-century warrior king and the first Chhatrapati of the Maratha Empire who founded the state in the western Marathi-speaking regions of the Deccan Plateau.\\nIn 2017, the station was again renamed \"Chhatrapati Shivaji Maharaj Terminus\" (with code CSMT), where the title Maharaj has literal meaning, \"Great king; emperor.\"  Both former initials \"VT\" and the current, \"CST\", are also commonly used.\\nThe terminus is the headquarters of India\\'s Central Railway. It is one of the busiest railway stations in India, serving as a terminal for both long-distance and suburban trains with a total number of 18 platforms.', 'source': 'https://en.wikipedia.org/wiki/Chhatrapati_Shivaji_Terminus'}, page_content='Chhatrapati Shivaji Terminus (officially Chhatrapati Shivaji Maharaj Terminus since 2017, formerly Victoria Terminus (VT), Bombay station code: CSMT (mainline)/ST (suburban)), is a historic railway terminus and UNESCO World Heritage Site in Mumbai, Maharashtra, India.\\nThe terminus was designed by a British architectural engineer Frederick William Stevens from an initial design by Axel Haig, in an exuberant Italian Gothic style. Its construction began in 1878, in a location south of the old Bori Bunder railway station, and was completed in 1887, the year marking 50 years of Queen Victoria\\'s rule.\\n\\nIn March 1996, the station\\'s name was officially changed from \"Victoria Terminus\" to \"Chhatrapati Shivaji Terminus\" (with station code CST) after Shivaji, the 17th-century warrior king and the first Chhatrapati of the Maratha Empire who founded the state in the western Marathi-speaking regions of the Deccan Plateau.\\nIn 2017, the station was again renamed \"Chhatrapati Shivaji Maharaj Terminus\" (with code CSMT), where the title Maharaj has literal meaning, \"Great king; emperor.\"  Both former initials \"VT\" and the current, \"CST\", are also commonly used.\\nThe terminus is the headquarters of India\\'s Central Railway. It is one of the busiest railway stations in India, serving as a terminal for both long-distance and suburban trains with a total number of 18 platforms.\\n\\n\\n== History ==\\n\\n\\n=== Victoria Terminus ===\\nThis famous landmark which has become a symbol of the city, was built as the headquarters of the Great Indian Peninsular Railway.\\nThe railway station was built to replace the Bori Bunder railway station, in the Bori Bunder area of Bombay, a prominent port and warehouse area known for its imports and exports. Since Bombay became a major port city at the time, a bigger station was built to meet its demands, and was named Victoria Terminus, after the then reigning Empress of India, Queen Victoria. The station was designed by Frederick William Stevens, a British engineer architect, attached to the Bombay office of the Indian colonial Public Works Department. Work began in 1878. He received ₹1,614,000 (US$19,000) as the payment for his services. Stevens earned the commission to construct the station after a masterpiece watercolour sketch by draughtsman Axel Haig. The design has been compared to George Gilbert Scott\\'s 1873 St Pancras railway station in London, also in an exuberant Italian Gothic style, but it is far closer to Scott\\'s second prize winning entry for Berlin\\'s parliament building, exhibited in London in 1875, which featured numerous towers and turrets, and a large central ribbed dome. The style of the station is also similar to other public buildings of the 1870s in Mumbai, such as the Elphinstone College but especially the buildings of Mumbai University, also designed by G Scott.\\nThe station took ten years to complete, the longest for any building of that era in Mumbai.\\n\\n\\n=== Missing statue ===\\n\\nDuring its construction, a marble statue of Queen Victoria was installed in the main façade of the building, in a canopy under the clock. In the 1950s, authorities had begun to remove statues of the British figures from government buildings and public spaces based on a directive from the Government of India. Most of the statues, including that of Queen Victoria, were sent to Victoria Gardens (later renamed Rani Baug) where they were left lying on the grass in the open until at least the 1980s. A Right to Information report was filed, but had no records of the missing statue being exported out of India. Historians now believe that the statue was smuggled out, sold by politicians, or destroyed. The symbol of Progress, another statue, featured on the top of the dome, is often mistaken for that of Queen Victoria.\\n\\n\\n=== Renaming ===\\n\\nThe station has been renamed several times. It was built to replace Bori Bunder, the terminus of the Great Indian Peninsula Railway from 1853 to 1888 and was named Victoria Terminus to commemorate the Golden Ju')"
            ]
          },
          "metadata": {},
          "execution_count": 6
        }
      ]
    },
    {
      "cell_type": "code",
      "source": [
        "len(raw_documents)"
      ],
      "metadata": {
        "colab": {
          "base_uri": "https://localhost:8080/"
        },
        "id": "x15SPC_PSTwd",
        "outputId": "41df58bf-8938-42c4-a7ba-59021e8ab0a2"
      },
      "execution_count": null,
      "outputs": [
        {
          "output_type": "execute_result",
          "data": {
            "text/plain": [
              "25"
            ]
          },
          "metadata": {},
          "execution_count": 8
        }
      ]
    },
    {
      "cell_type": "code",
      "source": [
        "from langchain.text_splitter import TokenTextSplitter\n",
        "text_splitter = TokenTextSplitter(chunk_size=512, chunk_overlap=24)\n",
        "documents = text_splitter.split_documents(raw_documents[:3])"
      ],
      "metadata": {
        "id": "9hf0i15TSWwb"
      },
      "execution_count": null,
      "outputs": []
    },
    {
      "cell_type": "code",
      "source": [
        "## llm implementation\n",
        "\n",
        "from langchain_openai import ChatOpenAI\n",
        "llm=ChatOpenAI(temperature=0, model_name=\"gpt-4\")"
      ],
      "metadata": {
        "id": "02FHHiY7Sq9Q"
      },
      "execution_count": null,
      "outputs": []
    },
    {
      "cell_type": "code",
      "source": [
        "llm.predict(\"Tell me about Shivaji Maharaj\")"
      ],
      "metadata": {
        "colab": {
          "base_uri": "https://localhost:8080/",
          "height": 157
        },
        "id": "CQJGU6XwWCIq",
        "outputId": "3180fd7c-91c0-4a4b-b2df-b5b8035af0df"
      },
      "execution_count": null,
      "outputs": [
        {
          "output_type": "stream",
          "name": "stderr",
          "text": [
            "<ipython-input-18-fbb3ecaac91a>:1: LangChainDeprecationWarning: The method `BaseChatModel.predict` was deprecated in langchain-core 0.1.7 and will be removed in 1.0. Use invoke instead.\n",
            "  llm.predict(\"Tell me about Shivaji Maharaj\")\n"
          ]
        },
        {
          "output_type": "execute_result",
          "data": {
            "text/plain": [
              "\"Chhatrapati Shivaji Maharaj was an Indian warrior king and the founder of the Maratha Empire in western India in the 17th century. He was born on February 19, 1630, in Shivneri Fort, Pune, Maharashtra. His father, Shahaji Bhonsle, was a Maratha general who served the Deccan Sultanates, and his mother was Jijabai.\\n\\nShivaji was known for his progressive and sensible administration. He built a strong naval presence across long coastlines, which was instrumental in countering the colonialists. He was also known for his innovative military tactics that included guerrilla warfare methods, known as 'ganimi kava'. \\n\\nShivaji established a competent and progressive civil rule with well-structured administrative organizations. He also revived ancient Hindu political traditions and court conventions and promoted the usage of Marathi and Sanskrit, rather than Persian, in court and administration.\\n\\nShivaji's legacy was to vary by observer and time, but he began to be recognized as a great national hero during the Indian independence movement, as many Indian nationalists elevated him as a symbol of resistance and self-rule.\\n\\nShivaji was crowned as the king of the Maratha Kingdom in 1674. He was formally crowned as the Chhatrapati (Monarch) of his realm at Raigad on June 6, 1674. He died on April 3, 1680, at Raigad Fort, after suffering from a severe bout of dysentery.\""
            ],
            "application/vnd.google.colaboratory.intrinsic+json": {
              "type": "string"
            }
          },
          "metadata": {},
          "execution_count": 18
        }
      ]
    },
    {
      "cell_type": "code",
      "source": [
        "from langchain_experimental.graph_transformers import LLMGraphTransformer\n",
        "llm_transformer = LLMGraphTransformer( llm = llm )"
      ],
      "metadata": {
        "id": "hjd2ZdxvS75p"
      },
      "execution_count": null,
      "outputs": []
    },
    {
      "cell_type": "code",
      "source": [
        "graph_documents = llm_transformer.convert_to_graph_documents( documents )"
      ],
      "metadata": {
        "id": "CpE4EoVUT0u4"
      },
      "execution_count": null,
      "outputs": []
    },
    {
      "cell_type": "code",
      "source": [
        "graph_documents[0].nodes"
      ],
      "metadata": {
        "colab": {
          "base_uri": "https://localhost:8080/"
        },
        "id": "UhjVjhckUA10",
        "outputId": "bf1bbcee-bb5a-42fe-ff09-b71d2629bd84"
      },
      "execution_count": null,
      "outputs": [
        {
          "output_type": "execute_result",
          "data": {
            "text/plain": [
              "[Node(id='Shivaji I', type='Person'),\n",
              " Node(id='Bhonsle Dynasty', type='Group'),\n",
              " Node(id='Sultanate Of Bijapur', type='Group'),\n",
              " Node(id='Maratha Confederacy', type='Group'),\n",
              " Node(id='Raigad Fort', type='Location'),\n",
              " Node(id='Mughal Empire', type='Group'),\n",
              " Node(id='Sultanate Of Golconda', type='Group'),\n",
              " Node(id='European Colonial Powers', type='Group'),\n",
              " Node(id='Battle Of Purandar', type='Event'),\n",
              " Node(id='Maratha Navy', type='Group'),\n",
              " Node(id='Marathi Language', type='Concept'),\n",
              " Node(id='Sanskrit Language', type='Concept'),\n",
              " Node(id='Persian Language', type='Concept'),\n",
              " Node(id='Indian Independence Movement', type='Event'),\n",
              " Node(id='Swaraj Movement', type='Event'),\n",
              " Node(id='Shivneri', type='Location'),\n",
              " Node(id='Junnar', type='Location'),\n",
              " Node(id='Pune District', type='Location'),\n",
              " Node(id='Shivaji Jayanti', type='Event'),\n",
              " Node(id='Shivai Devi', type='Person'),\n",
              " Node(id='Maratha Family', type='Group'),\n",
              " Node(id='Bhonsle Clan', type='Group'),\n",
              " Node(id='Shahaji Bhonsle', type='Person'),\n",
              " Node(id='Deccan Sultanates', type='Group')]"
            ]
          },
          "metadata": {},
          "execution_count": 23
        }
      ]
    },
    {
      "cell_type": "code",
      "source": [],
      "metadata": {
        "id": "iioqXgy9Y6mF"
      },
      "execution_count": null,
      "outputs": []
    },
    {
      "cell_type": "code",
      "source": [
        "from langchain_community.graphs import Neo4jGraph\n",
        "\n",
        "graph = Neo4jGraph(\n",
        "    url = NEO4J_URI,\n",
        "    username = NEO4J_USERNAME,\n",
        "    password = NEO4J_PASSWORD,\n",
        ")"
      ],
      "metadata": {
        "id": "ljxBw4OfP6R1"
      },
      "execution_count": null,
      "outputs": []
    },
    {
      "cell_type": "code",
      "source": [
        "graph.add_graph_documents(\n",
        "    graph_documents,\n",
        "    baseEntityLabel=True,\n",
        "    include_source=True\n",
        ")"
      ],
      "metadata": {
        "id": "XcZY38mMZRLE"
      },
      "execution_count": null,
      "outputs": []
    },
    {
      "cell_type": "code",
      "source": [
        "# directly show the graph resulting from the given Cypher query\n",
        "default_cypher = \"MATCH (s)-[r:!MENTIONS]->(t) RETURN s,r,t LIMIT 50\""
      ],
      "metadata": {
        "id": "bwepErBOZXe4"
      },
      "execution_count": null,
      "outputs": []
    },
    {
      "cell_type": "code",
      "source": [
        "!pip install yfiles_jupyter_graphs"
      ],
      "metadata": {
        "colab": {
          "base_uri": "https://localhost:8080/"
        },
        "id": "6_6N528iZpk0",
        "outputId": "b8edc629-842a-43f3-bfdd-198cca33087e"
      },
      "execution_count": null,
      "outputs": [
        {
          "output_type": "stream",
          "name": "stdout",
          "text": [
            "Collecting yfiles_jupyter_graphs\n",
            "  Downloading yfiles_jupyter_graphs-1.8.1-py3-none-any.whl.metadata (19 kB)\n",
            "Collecting ipywidgets>=8.0.0 (from yfiles_jupyter_graphs)\n",
            "  Downloading ipywidgets-8.1.5-py3-none-any.whl.metadata (2.3 kB)\n",
            "Collecting comm>=0.1.3 (from ipywidgets>=8.0.0->yfiles_jupyter_graphs)\n",
            "  Downloading comm-0.2.2-py3-none-any.whl.metadata (3.7 kB)\n",
            "Requirement already satisfied: ipython>=6.1.0 in /usr/local/lib/python3.10/dist-packages (from ipywidgets>=8.0.0->yfiles_jupyter_graphs) (7.34.0)\n",
            "Requirement already satisfied: traitlets>=4.3.1 in /usr/local/lib/python3.10/dist-packages (from ipywidgets>=8.0.0->yfiles_jupyter_graphs) (5.7.1)\n",
            "Collecting widgetsnbextension~=4.0.12 (from ipywidgets>=8.0.0->yfiles_jupyter_graphs)\n",
            "  Downloading widgetsnbextension-4.0.13-py3-none-any.whl.metadata (1.6 kB)\n",
            "Requirement already satisfied: jupyterlab-widgets~=3.0.12 in /usr/local/lib/python3.10/dist-packages (from ipywidgets>=8.0.0->yfiles_jupyter_graphs) (3.0.13)\n",
            "Requirement already satisfied: setuptools>=18.5 in /usr/local/lib/python3.10/dist-packages (from ipython>=6.1.0->ipywidgets>=8.0.0->yfiles_jupyter_graphs) (71.0.4)\n",
            "Collecting jedi>=0.16 (from ipython>=6.1.0->ipywidgets>=8.0.0->yfiles_jupyter_graphs)\n",
            "  Using cached jedi-0.19.1-py2.py3-none-any.whl.metadata (22 kB)\n",
            "Requirement already satisfied: decorator in /usr/local/lib/python3.10/dist-packages (from ipython>=6.1.0->ipywidgets>=8.0.0->yfiles_jupyter_graphs) (4.4.2)\n",
            "Requirement already satisfied: pickleshare in /usr/local/lib/python3.10/dist-packages (from ipython>=6.1.0->ipywidgets>=8.0.0->yfiles_jupyter_graphs) (0.7.5)\n",
            "Requirement already satisfied: prompt-toolkit!=3.0.0,!=3.0.1,<3.1.0,>=2.0.0 in /usr/local/lib/python3.10/dist-packages (from ipython>=6.1.0->ipywidgets>=8.0.0->yfiles_jupyter_graphs) (3.0.47)\n",
            "Requirement already satisfied: pygments in /usr/local/lib/python3.10/dist-packages (from ipython>=6.1.0->ipywidgets>=8.0.0->yfiles_jupyter_graphs) (2.16.1)\n",
            "Requirement already satisfied: backcall in /usr/local/lib/python3.10/dist-packages (from ipython>=6.1.0->ipywidgets>=8.0.0->yfiles_jupyter_graphs) (0.2.0)\n",
            "Requirement already satisfied: matplotlib-inline in /usr/local/lib/python3.10/dist-packages (from ipython>=6.1.0->ipywidgets>=8.0.0->yfiles_jupyter_graphs) (0.1.7)\n",
            "Requirement already satisfied: pexpect>4.3 in /usr/local/lib/python3.10/dist-packages (from ipython>=6.1.0->ipywidgets>=8.0.0->yfiles_jupyter_graphs) (4.9.0)\n",
            "Requirement already satisfied: parso<0.9.0,>=0.8.3 in /usr/local/lib/python3.10/dist-packages (from jedi>=0.16->ipython>=6.1.0->ipywidgets>=8.0.0->yfiles_jupyter_graphs) (0.8.4)\n",
            "Requirement already satisfied: ptyprocess>=0.5 in /usr/local/lib/python3.10/dist-packages (from pexpect>4.3->ipython>=6.1.0->ipywidgets>=8.0.0->yfiles_jupyter_graphs) (0.7.0)\n",
            "Requirement already satisfied: wcwidth in /usr/local/lib/python3.10/dist-packages (from prompt-toolkit!=3.0.0,!=3.0.1,<3.1.0,>=2.0.0->ipython>=6.1.0->ipywidgets>=8.0.0->yfiles_jupyter_graphs) (0.2.13)\n",
            "Downloading yfiles_jupyter_graphs-1.8.1-py3-none-any.whl (15.6 MB)\n",
            "\u001b[2K   \u001b[90m━━━━━━━━━━━━━━━━━━━━━━━━━━━━━━━━━━━━━━━━\u001b[0m \u001b[32m15.6/15.6 MB\u001b[0m \u001b[31m89.8 MB/s\u001b[0m eta \u001b[36m0:00:00\u001b[0m\n",
            "\u001b[?25hDownloading ipywidgets-8.1.5-py3-none-any.whl (139 kB)\n",
            "\u001b[2K   \u001b[90m━━━━━━━━━━━━━━━━━━━━━━━━━━━━━━━━━━━━━━━━\u001b[0m \u001b[32m139.8/139.8 kB\u001b[0m \u001b[31m12.0 MB/s\u001b[0m eta \u001b[36m0:00:00\u001b[0m\n",
            "\u001b[?25hDownloading comm-0.2.2-py3-none-any.whl (7.2 kB)\n",
            "Downloading widgetsnbextension-4.0.13-py3-none-any.whl (2.3 MB)\n",
            "\u001b[2K   \u001b[90m━━━━━━━━━━━━━━━━━━━━━━━━━━━━━━━━━━━━━━━━\u001b[0m \u001b[32m2.3/2.3 MB\u001b[0m \u001b[31m75.9 MB/s\u001b[0m eta \u001b[36m0:00:00\u001b[0m\n",
            "\u001b[?25hUsing cached jedi-0.19.1-py2.py3-none-any.whl (1.6 MB)\n",
            "Installing collected packages: widgetsnbextension, jedi, comm, ipywidgets, yfiles_jupyter_graphs\n",
            "  Attempting uninstall: widgetsnbextension\n",
            "    Found existing installation: widgetsnbextension 3.6.8\n",
            "    Uninstalling widgetsnbextension-3.6.8:\n",
            "      Successfully uninstalled widgetsnbextension-3.6.8\n",
            "  Attempting uninstall: ipywidgets\n",
            "    Found existing installation: ipywidgets 7.7.1\n",
            "    Uninstalling ipywidgets-7.7.1:\n",
            "      Successfully uninstalled ipywidgets-7.7.1\n",
            "Successfully installed comm-0.2.2 ipywidgets-8.1.5 jedi-0.19.1 widgetsnbextension-4.0.13 yfiles_jupyter_graphs-1.8.1\n"
          ]
        }
      ]
    },
    {
      "cell_type": "code",
      "source": [
        "from yfiles_jupyter_graphs import GraphWidget\n",
        "from neo4j import GraphDatabase"
      ],
      "metadata": {
        "id": "eBpw64uzZhP6"
      },
      "execution_count": null,
      "outputs": []
    },
    {
      "cell_type": "code",
      "source": [
        "try:\n",
        "  import google.colab\n",
        "  from google.colab import output\n",
        "  output.enable_custom_widget_manager()\n",
        "except:\n",
        "  pass"
      ],
      "metadata": {
        "id": "BkPOXvrRZwkS"
      },
      "execution_count": null,
      "outputs": []
    },
    {
      "cell_type": "code",
      "source": [
        "def showGraph(cypher: str = default_cypher):\n",
        "    # create a neo4j session to run queries\n",
        "    driver = GraphDatabase.driver(\n",
        "        uri = NEO4J_URI,\n",
        "        auth = (NEO4J_USERNAME, NEO4J_PASSWORD)\n",
        "    )\n",
        "\n",
        "    session = driver.session()\n",
        "    widget = GraphWidget( graph = session.run(cypher).graph() )\n",
        "    widget.node_label_mapping = 'id'\n",
        "    display(widget)\n",
        "    return widget"
      ],
      "metadata": {
        "id": "OJ3Yvnm2Z2EI"
      },
      "execution_count": null,
      "outputs": []
    },
    {
      "cell_type": "code",
      "source": [
        "showGraph()"
      ],
      "metadata": {
        "colab": {
          "base_uri": "https://localhost:8080/",
          "height": 1000,
          "referenced_widgets": [
            "58d59d796f9a4cb9acaa8b79dcb53c7f",
            "578f62f690c741ef9a91e8cd3e02ee42"
          ]
        },
        "id": "kgzpHIt5aT2P",
        "outputId": "c11e8764-bc38-4e60-fa03-84ff7de4c822"
      },
      "execution_count": null,
      "outputs": [
        {
          "output_type": "display_data",
          "data": {
            "text/plain": [
              "GraphWidget(layout=Layout(height='800px', width='100%'))"
            ],
            "application/vnd.jupyter.widget-view+json": {
              "version_major": 2,
              "version_minor": 0,
              "model_id": "58d59d796f9a4cb9acaa8b79dcb53c7f"
            }
          },
          "metadata": {
            "application/vnd.jupyter.widget-view+json": {
              "colab": {
                "custom_widget_manager": {
                  "url": "https://ssl.gstatic.com/colaboratory-static/widgets/colab-cdn-widget-manager/2b70e893a8ba7c0f/manager.min.js"
                }
              }
            }
          }
        },
        {
          "output_type": "display_data",
          "data": {
            "text/plain": [
              "GraphWidget(layout=Layout(height='800px', width='100%'))"
            ],
            "application/vnd.jupyter.widget-view+json": {
              "version_major": 2,
              "version_minor": 0,
              "model_id": "58d59d796f9a4cb9acaa8b79dcb53c7f"
            }
          },
          "metadata": {
            "application/vnd.jupyter.widget-view+json": {
              "colab": {
                "custom_widget_manager": {
                  "url": "https://ssl.gstatic.com/colaboratory-static/widgets/colab-cdn-widget-manager/2b70e893a8ba7c0f/manager.min.js"
                }
              }
            }
          }
        }
      ]
    },
    {
      "cell_type": "code",
      "source": [
        "from typing import Tuple, List, Optional"
      ],
      "metadata": {
        "id": "OYJ87Z0QaWr4"
      },
      "execution_count": null,
      "outputs": []
    },
    {
      "cell_type": "code",
      "source": [
        "import os\n",
        "os.environ[\"NEO4J_URI\"] = NEO4J_URI\n",
        "os.environ[\"NEO4J_USERNAME\"] = NEO4J_USERNAME\n",
        "os.environ[\"NEO4J_PASSWORD\"] = NEO4J_PASSWORD"
      ],
      "metadata": {
        "id": "I0SY1r0ldbVu"
      },
      "execution_count": null,
      "outputs": []
    },
    {
      "cell_type": "code",
      "source": [
        "from langchain_community.vectorstores import Neo4jVector\n",
        "from langchain_openai import OpenAIEmbeddings\n",
        "\n",
        "vector_index = Neo4jVector.from_existing_graph(\n",
        "    OpenAIEmbeddings(),\n",
        "    search_type=\"hybrid\",\n",
        "    node_label=\"Document\",\n",
        "    text_node_properties=[\"text\"],\n",
        "    embedding_node_property=\"embedding\"\n",
        ")"
      ],
      "metadata": {
        "id": "yOEuNsWudK7D"
      },
      "execution_count": null,
      "outputs": []
    },
    {
      "cell_type": "code",
      "source": [
        "graph.query(\"CREATE FULLTEXT INDEX entity IF NOT EXISTS FOR (e:__Entity__) ON EACH [e.id]\")\n"
      ],
      "metadata": {
        "colab": {
          "base_uri": "https://localhost:8080/"
        },
        "id": "ksFkcLx1dSxo",
        "outputId": "789ccba3-1b51-44f6-802b-1ebd9ed6cf32"
      },
      "execution_count": null,
      "outputs": [
        {
          "output_type": "execute_result",
          "data": {
            "text/plain": [
              "[]"
            ]
          },
          "metadata": {},
          "execution_count": 37
        }
      ]
    },
    {
      "cell_type": "code",
      "source": [
        "from langchain_core.pydantic_v1 import BaseModel, Field\n",
        "# Extract entities from text\n",
        "class Entities(BaseModel):\n",
        "    \"\"\"Identifying information about entities.\"\"\"\n",
        "\n",
        "    names: List[str] = Field(\n",
        "        ...,\n",
        "        description=\"All the person, organization, or business entities that \"\n",
        "        \"appear in the text\",\n",
        "    )\n"
      ],
      "metadata": {
        "id": "eye7Hq_Rdio8"
      },
      "execution_count": null,
      "outputs": []
    },
    {
      "cell_type": "code",
      "source": [
        "from langchain_core.prompts import ChatPromptTemplate\n",
        "from langchain_core.prompts.prompt import PromptTemplate\n",
        "\n",
        "prompt = ChatPromptTemplate.from_messages(\n",
        "    [\n",
        "        (\n",
        "            \"system\",\n",
        "            \"You are extracting organization and person entities from the text.\",\n",
        "        ),\n",
        "        (\n",
        "            \"human\",\n",
        "            \"Use the given format to extract information from the following \"\n",
        "            \"input: {question}\",\n",
        "        ),\n",
        "    ]\n",
        ")\n",
        "\n",
        "entity_chain = prompt | llm.with_structured_output(Entities)\n"
      ],
      "metadata": {
        "id": "ZJndGCGcdsON"
      },
      "execution_count": null,
      "outputs": []
    },
    {
      "cell_type": "code",
      "source": [
        "entity_chain.invoke({\"question\": \"Where was Shivaji Maharaj born?\"}).names"
      ],
      "metadata": {
        "colab": {
          "base_uri": "https://localhost:8080/"
        },
        "id": "g8TNqVMSd0ht",
        "outputId": "3beb39c5-f2db-4d42-9222-b6fc5e67ffa8"
      },
      "execution_count": null,
      "outputs": [
        {
          "output_type": "execute_result",
          "data": {
            "text/plain": [
              "['Shivaji Maharaj']"
            ]
          },
          "metadata": {},
          "execution_count": 41
        }
      ]
    },
    {
      "cell_type": "code",
      "source": [
        "from langchain_community.vectorstores.neo4j_vector import remove_lucene_chars\n",
        "\n",
        "def generate_full_text_query(input: str) -> str:\n",
        "    full_text_query = \"\"\n",
        "    words = [el for el in remove_lucene_chars(input).split() if el]\n",
        "    for word in words[:-1]:\n",
        "        full_text_query += f\" {word}~2 AND\"\n",
        "    full_text_query += f\" {words[-1]}~2\"\n",
        "    return full_text_query.strip()\n",
        "\n",
        "# Fulltext index query\n",
        "def structured_retriever(question: str) -> str:\n",
        "    result = \"\"\n",
        "    entities = entity_chain.invoke({\"question\": question})\n",
        "    for entity in entities.names:\n",
        "        response = graph.query(\n",
        "            \"\"\"CALL db.index.fulltext.queryNodes('entity', $query, {limit:2})\n",
        "            YIELD node,score\n",
        "            CALL {\n",
        "              WITH node\n",
        "              MATCH (node)-[r:!MENTIONS]->(neighbor)\n",
        "              RETURN node.id + ' - ' + type(r) + ' -> ' + neighbor.id AS output\n",
        "              UNION ALL\n",
        "              WITH node\n",
        "              MATCH (node)<-[r:!MENTIONS]-(neighbor)\n",
        "              RETURN neighbor.id + ' - ' + type(r) + ' -> ' +  node.id AS output\n",
        "            }\n",
        "            RETURN output LIMIT 50\n",
        "            \"\"\",\n",
        "            {\"query\": generate_full_text_query(entity)},\n",
        "        )\n",
        "        result += \"\\n\".join([el['output'] for el in response])\n",
        "    return result"
      ],
      "metadata": {
        "id": "3W7wfN06eDhK"
      },
      "execution_count": null,
      "outputs": []
    },
    {
      "cell_type": "code",
      "source": [
        "print(structured_retriever(\"Who is Shahaji Bhonsle ?\"))"
      ],
      "metadata": {
        "colab": {
          "base_uri": "https://localhost:8080/"
        },
        "id": "L5iwXDiteLXu",
        "outputId": "b150682b-2f9f-4c42-eea5-e73b39f68da6"
      },
      "execution_count": null,
      "outputs": [
        {
          "output_type": "stream",
          "name": "stderr",
          "text": [
            "WARNING:neo4j.notifications:Received notification from DBMS server: {severity: WARNING} {code: Neo.ClientNotification.Statement.FeatureDeprecationWarning} {category: DEPRECATION} {title: This feature is deprecated and will be removed in future versions.} {description: CALL subquery without a variable scope clause is now deprecated. Use CALL (node, node) { ... }} {position: line: 3, column: 13, offset: 104} for query: \"CALL db.index.fulltext.queryNodes('entity', $query, {limit:2})\\n            YIELD node,score\\n            CALL {\\n              WITH node\\n              MATCH (node)-[r:!MENTIONS]->(neighbor)\\n              RETURN node.id + ' - ' + type(r) + ' -> ' + neighbor.id AS output\\n              UNION ALL\\n              WITH node\\n              MATCH (node)<-[r:!MENTIONS]-(neighbor)\\n              RETURN neighbor.id + ' - ' + type(r) + ' -> ' +  node.id AS output\\n            }\\n            RETURN output LIMIT 50\\n            \"\n"
          ]
        },
        {
          "output_type": "stream",
          "name": "stdout",
          "text": [
            "Shahaji Bhonsle - SERVED -> Deccan Sultanates\n",
            "Shahaji Bhonsle - HAS_OCCUPATION -> Maratha General\n",
            "Shahaji Bhonsle - CHANGED_LOYALTY -> Mughal Empire\n",
            "Shahaji Bhonsle - CHANGED_LOYALTY -> Nizamshahi Of Ahmadnagar\n",
            "Shahaji Bhonsle - CHANGED_LOYALTY -> Adilshah Of Bijapur\n",
            "Shahaji Bhonsle - KEPT -> Jagir\n",
            "Shahaji Bhonsle - HELPED -> Adil Shahi Sultanate Of Bijapur\n",
            "Shahaji Bhonsle - LOOKED_FOR -> Jagir Land\n",
            "Shahaji Bhonsle - PURSUED_BY -> Mughal Army\n",
            "Shahaji Bhonsle - OBTAINED -> Poona\n",
            "Shahaji Bhonsle - DEPLOYED_BY -> Bijapuri Ruler Adilshah\n",
            "Shahaji Bhonsle - APPOINTED -> Dadoji Kondadeo\n",
            "Shivaji - CHILD_OF -> Shahaji Bhonsle\n"
          ]
        }
      ]
    },
    {
      "cell_type": "code",
      "source": [
        "def retriever(question: str):\n",
        "    print(f\"Search query: {question}\")\n",
        "    structured_data = structured_retriever(question)\n",
        "    unstructured_data = [el.page_content for el in vector_index.similarity_search(question)]\n",
        "    final_data = f\"\"\"Structured data:\n",
        "      {structured_data}\n",
        "      Unstructured data:\n",
        "      {\"#Document \". join(unstructured_data)}\n",
        "    \"\"\"\n",
        "    return final_data"
      ],
      "metadata": {
        "id": "X0EAzRaFeSB0"
      },
      "execution_count": null,
      "outputs": []
    },
    {
      "cell_type": "code",
      "source": [
        "_template = \"\"\"Given the following conversation and a follow up question, rephrase the follow up question to be a standalone question,\n",
        "in its original language.\n",
        "Chat History:\n",
        "{chat_history}\n",
        "Follow Up Input: {question}\n",
        "Standalone question:\"\"\""
      ],
      "metadata": {
        "id": "UzF2CoGje1eG"
      },
      "execution_count": null,
      "outputs": []
    },
    {
      "cell_type": "code",
      "source": [
        "CONDENSE_QUESTION_PROMPT = PromptTemplate.from_template(_template)"
      ],
      "metadata": {
        "id": "r5sOCTd1e6LS"
      },
      "execution_count": null,
      "outputs": []
    },
    {
      "cell_type": "code",
      "source": [
        "CONDENSE_QUESTION_PROMPT"
      ],
      "metadata": {
        "colab": {
          "base_uri": "https://localhost:8080/"
        },
        "id": "F88JKVnwfDGr",
        "outputId": "1fadc5ec-18cd-49a7-cf20-f202ee12c8ac"
      },
      "execution_count": null,
      "outputs": [
        {
          "output_type": "execute_result",
          "data": {
            "text/plain": [
              "PromptTemplate(input_variables=['chat_history', 'question'], template='Given the following conversation and a follow up question, rephrase the follow up question to be a standalone question,\\nin its original language.\\nChat History:\\n{chat_history}\\nFollow Up Input: {question}\\nStandalone question:')"
            ]
          },
          "metadata": {},
          "execution_count": 48
        }
      ]
    },
    {
      "cell_type": "code",
      "source": [
        "from langchain_core.messages import HumanMessage, AIMessage\n",
        "\n",
        "def _format_chat_history(chat_history: List[Tuple[str, str]]) -> List:\n",
        "    buffer = []\n",
        "    for human, ai in chat_history:\n",
        "        buffer.append(HumanMessage(content=human))\n",
        "        buffer.append(AIMessage(content=ai))\n",
        "    return buffer"
      ],
      "metadata": {
        "id": "KOlp2Z85fBPR"
      },
      "execution_count": null,
      "outputs": []
    },
    {
      "cell_type": "code",
      "source": [
        "from langchain_core.runnables.branch import RunnableBranch\n",
        "from langchain_core.runnables.passthrough import RunnablePassthrough\n",
        "from langchain_core.runnables.base import RunnableLambda, RunnableParallel\n",
        "from langchain_core.output_parsers.string import StrOutputParser\n",
        "\n",
        "\n",
        "_search_query = RunnableBranch(\n",
        "    # If input includes chat_history, we condense it with the follow-up question\n",
        "    (\n",
        "        RunnableLambda(lambda x: bool(x.get(\"chat_history\"))).with_config(\n",
        "            run_name=\"HasChatHistoryCheck\"\n",
        "        ),  # Condense follow-up question and chat into a standalone_question\n",
        "        RunnablePassthrough.assign(\n",
        "            chat_history=lambda x: _format_chat_history(x[\"chat_history\"])\n",
        "        )\n",
        "        | CONDENSE_QUESTION_PROMPT\n",
        "        | ChatOpenAI(temperature=0)\n",
        "        | StrOutputParser(),\n",
        "    ),\n",
        "    # Else, we have no chat history, so just pass through the question\n",
        "    RunnableLambda(lambda x : x[\"question\"]),\n",
        ")\n",
        "\n",
        "template = \"\"\"Answer the question based only on the following context:\n",
        "{context}\n",
        "\n",
        "Question: {question}\n",
        "Use natural language and be concise.\n",
        "Answer:\"\"\""
      ],
      "metadata": {
        "id": "h6z8a-d9fKGU"
      },
      "execution_count": null,
      "outputs": []
    },
    {
      "cell_type": "code",
      "source": [
        "prompt = ChatPromptTemplate.from_template(template)\n",
        "\n",
        "chain = (\n",
        "    RunnableParallel(\n",
        "        {\n",
        "            \"context\": _search_query | retriever,\n",
        "            \"question\": RunnablePassthrough(),\n",
        "        }\n",
        "    )\n",
        "    | prompt\n",
        "    | llm\n",
        "    | StrOutputParser()\n",
        ")"
      ],
      "metadata": {
        "id": "Kp8I64xAgcnX"
      },
      "execution_count": null,
      "outputs": []
    },
    {
      "cell_type": "code",
      "source": [
        "chain.invoke({\"question\": \"What are the achivments of Sivaji Maharaj ?\"})"
      ],
      "metadata": {
        "colab": {
          "base_uri": "https://localhost:8080/",
          "height": 160
        },
        "id": "WtgndmAmgtmI",
        "outputId": "db11f140-ee1f-4a6d-b19f-1318e90cdf41"
      },
      "execution_count": null,
      "outputs": [
        {
          "output_type": "stream",
          "name": "stdout",
          "text": [
            "Search query: What are the achivments of Sivaji Maharaj ?\n"
          ]
        },
        {
          "output_type": "stream",
          "name": "stderr",
          "text": [
            "WARNING:neo4j.notifications:Received notification from DBMS server: {severity: WARNING} {code: Neo.ClientNotification.Statement.FeatureDeprecationWarning} {category: DEPRECATION} {title: This feature is deprecated and will be removed in future versions.} {description: CALL subquery without a variable scope clause is now deprecated. Use CALL (node, node) { ... }} {position: line: 3, column: 13, offset: 104} for query: \"CALL db.index.fulltext.queryNodes('entity', $query, {limit:2})\\n            YIELD node,score\\n            CALL {\\n              WITH node\\n              MATCH (node)-[r:!MENTIONS]->(neighbor)\\n              RETURN node.id + ' - ' + type(r) + ' -> ' + neighbor.id AS output\\n              UNION ALL\\n              WITH node\\n              MATCH (node)<-[r:!MENTIONS]-(neighbor)\\n              RETURN neighbor.id + ' - ' + type(r) + ' -> ' +  node.id AS output\\n            }\\n            RETURN output LIMIT 50\\n            \"\n",
            "WARNING:neo4j.notifications:Received notification from DBMS server: {severity: WARNING} {code: Neo.ClientNotification.Statement.FeatureDeprecationWarning} {category: DEPRECATION} {title: This feature is deprecated and will be removed in future versions.} {description: CALL subquery without a variable scope clause is now deprecated. Use CALL () { ... }} {position: line: 1, column: 1, offset: 0} for query: \"CALL { CALL db.index.vector.queryNodes($index, $k, $embedding) YIELD node, score WITH collect({node:node, score:score}) AS nodes, max(score) AS max UNWIND nodes AS n RETURN n.node AS node, (n.score / max) AS score UNION CALL db.index.fulltext.queryNodes($keyword_index, $query, {limit: $k}) YIELD node, score WITH collect({node:node, score:score}) AS nodes, max(score) AS max UNWIND nodes AS n RETURN n.node AS node, (n.score / max) AS score } WITH node, max(score) AS score ORDER BY score DESC LIMIT $k RETURN reduce(str='', k IN ['text'] | str + '\\\\n' + k + ': ' + coalesce(node[k], '')) AS text, node {.*, `embedding`: Null, id: Null, `text`: Null} AS metadata, score\"\n"
          ]
        },
        {
          "output_type": "execute_result",
          "data": {
            "text/plain": [
              "\"Shivaji Maharaj, the 17th-century warrior king, founded the Maratha Empire in the western Marathi-speaking regions of the Deccan Plateau. He was formally crowned the Chhatrapati of his realm at Raigad Fort in 1674. Shivaji's military forces expanded the Maratha sphere of influence, capturing and building forts, and forming a Maratha navy. He established a competent and progressive civil administration with well-structured administrative institutions. He revived ancient Hindu political traditions, court conventions and promoted the use of the Marathi and Sanskrit languages, replacing Persian at court and in administration. He is also praised for his chivalrous treatment of women and his inclusive administration that employed people of all castes and religions.\""
            ],
            "application/vnd.google.colaboratory.intrinsic+json": {
              "type": "string"
            }
          },
          "metadata": {},
          "execution_count": 54
        }
      ]
    },
    {
      "cell_type": "code",
      "source": [
        "chain.invoke({\"question\": \"Who is the father of Sivaji Maharaj and What are his achivments ?\"})"
      ],
      "metadata": {
        "colab": {
          "base_uri": "https://localhost:8080/",
          "height": 125
        },
        "id": "cy2KpGJzg9H7",
        "outputId": "da1acc6d-caad-4534-bba1-527473c4c129"
      },
      "execution_count": null,
      "outputs": [
        {
          "output_type": "stream",
          "name": "stdout",
          "text": [
            "Search query: Who is the father of Sivaji Maharaj and What are his achivments ?\n"
          ]
        },
        {
          "output_type": "stream",
          "name": "stderr",
          "text": [
            "WARNING:neo4j.notifications:Received notification from DBMS server: {severity: WARNING} {code: Neo.ClientNotification.Statement.FeatureDeprecationWarning} {category: DEPRECATION} {title: This feature is deprecated and will be removed in future versions.} {description: CALL subquery without a variable scope clause is now deprecated. Use CALL (node, node) { ... }} {position: line: 3, column: 13, offset: 104} for query: \"CALL db.index.fulltext.queryNodes('entity', $query, {limit:2})\\n            YIELD node,score\\n            CALL {\\n              WITH node\\n              MATCH (node)-[r:!MENTIONS]->(neighbor)\\n              RETURN node.id + ' - ' + type(r) + ' -> ' + neighbor.id AS output\\n              UNION ALL\\n              WITH node\\n              MATCH (node)<-[r:!MENTIONS]-(neighbor)\\n              RETURN neighbor.id + ' - ' + type(r) + ' -> ' +  node.id AS output\\n            }\\n            RETURN output LIMIT 50\\n            \"\n",
            "WARNING:neo4j.notifications:Received notification from DBMS server: {severity: WARNING} {code: Neo.ClientNotification.Statement.FeatureDeprecationWarning} {category: DEPRECATION} {title: This feature is deprecated and will be removed in future versions.} {description: CALL subquery without a variable scope clause is now deprecated. Use CALL () { ... }} {position: line: 1, column: 1, offset: 0} for query: \"CALL { CALL db.index.vector.queryNodes($index, $k, $embedding) YIELD node, score WITH collect({node:node, score:score}) AS nodes, max(score) AS max UNWIND nodes AS n RETURN n.node AS node, (n.score / max) AS score UNION CALL db.index.fulltext.queryNodes($keyword_index, $query, {limit: $k}) YIELD node, score WITH collect({node:node, score:score}) AS nodes, max(score) AS max UNWIND nodes AS n RETURN n.node AS node, (n.score / max) AS score } WITH node, max(score) AS score ORDER BY score DESC LIMIT $k RETURN reduce(str='', k IN ['text'] | str + '\\\\n' + k + ': ' + coalesce(node[k], '')) AS text, node {.*, `embedding`: Null, id: Null, `text`: Null} AS metadata, score\"\n"
          ]
        },
        {
          "output_type": "execute_result",
          "data": {
            "text/plain": [
              "'Shivaji Maharaj\\'s father was Shahaji Bhonsle. He was a Maratha general who served the Deccan Sultanates. He was an influential general of the Ahmadnagar Sultanate and was awarded the epithet of \"Raja\". He was given deshmukhi rights of Pune, Supe, Chakan, and Indapur to provide for military expenses and was also given Fort Shivneri for his family\\'s residence.'"
            ],
            "application/vnd.google.colaboratory.intrinsic+json": {
              "type": "string"
            }
          },
          "metadata": {},
          "execution_count": 55
        }
      ]
    },
    {
      "cell_type": "markdown",
      "source": [
        "***"
      ],
      "metadata": {
        "id": "tAmnPP2pPrto"
      }
    },
    {
      "cell_type": "markdown",
      "source": [
        "## New_Ways_2"
      ],
      "metadata": {
        "id": "WPJ74-Z1P7G2"
      }
    },
    {
      "cell_type": "code",
      "source": [
        "import os\n",
        "os.environ[\"NEO4J_URI\"] = NEO4J_URI\n",
        "os.environ[\"NEO4J_USERNAME\"] = NEO4J_USERNAME\n",
        "os.environ[\"NEO4J_PASSWORD\"] = NEO4J_PASSWORD"
      ],
      "metadata": {
        "id": "erGB92a-JTFx"
      },
      "execution_count": null,
      "outputs": []
    },
    {
      "cell_type": "code",
      "source": [
        "from langchain_community.graphs import Neo4jGraph\n",
        "graph = Neo4jGraph(\n",
        "    url = NEO4J_URI,\n",
        "    username = NEO4J_USERNAME,\n",
        "    password = NEO4J_PASSWORD,\n",
        ")"
      ],
      "metadata": {
        "id": "dHF0M9lFJzzn"
      },
      "execution_count": null,
      "outputs": []
    },
    {
      "cell_type": "code",
      "source": [
        "graph"
      ],
      "metadata": {
        "colab": {
          "base_uri": "https://localhost:8080/"
        },
        "id": "NN8EDuCSb1wl",
        "outputId": "1dc992f5-5e07-4ff7-f486-4efab927f55f"
      },
      "execution_count": null,
      "outputs": [
        {
          "output_type": "execute_result",
          "data": {
            "text/plain": [
              "<langchain_community.graphs.neo4j_graph.Neo4jGraph at 0x7a10452517b0>"
            ]
          },
          "metadata": {},
          "execution_count": 5
        }
      ]
    },
    {
      "cell_type": "code",
      "source": [
        "groq_api_key = \"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\""
      ],
      "metadata": {
        "id": "hVTsg2kTSgUr"
      },
      "execution_count": null,
      "outputs": []
    },
    {
      "cell_type": "code",
      "source": [
        "from langchain_groq import ChatGroq\n",
        "\n",
        "llm = ChatGroq(groq_api_key=groq_api_key, model_name = \"gemma2-9b-it\")\n",
        "llm"
      ],
      "metadata": {
        "colab": {
          "base_uri": "https://localhost:8080/"
        },
        "id": "iSi3biGkcPzW",
        "outputId": "32219749-a4b9-46ca-c56f-06bbd5b2d10d"
      },
      "execution_count": null,
      "outputs": [
        {
          "output_type": "execute_result",
          "data": {
            "text/plain": [
              "ChatGroq(client=<groq.resources.chat.completions.Completions object at 0x7a1012c98550>, async_client=<groq.resources.chat.completions.AsyncCompletions object at 0x7a1012c99210>, model_name='gemma2-9b-it', groq_api_key=SecretStr('**********'))"
            ]
          },
          "metadata": {},
          "execution_count": 7
        }
      ]
    },
    {
      "cell_type": "code",
      "source": [
        "from langchain_core.documents import Document\n",
        "\n",
        "text = \"\"\"\n",
        "In the ancient kingdom of Eldoria, nestled between towering mountains and dense forests, King Alaric ruled with wisdom and valor. Under his reign, Eldoria flourished, but the kingdom was never truly at peace. Beyond the mountains lurked the fearsome dragon Azaroth, a creature of legend whose fiery breath could incinerate entire villages. Despite the threat, King Alaric held hope that diplomacy could prevent disaster.\n",
        "The wise King sought counsel from his trusted advisor, Elysia, a sorceress known for her deep knowledge of dragon lore. \"We must negotiate with Azaroth,\" she urged. \"Dragons are not mere beasts; they are ancient and intelligent. There might be a way to secure peace.\"\n",
        "Meanwhile, within Eldoria's court, a web of politics wove itself tighter. Lord Varian, an ambitious noble, saw the dragon's threat as an opportunity. \"The people need a strong leader who will not cower before beasts,\" he whispered to the lords and ladies. His ambition fueled rumors that King Alaric was too lenient, too trusting in ancient magic and diplomacy.\n",
        "Amidst this turmoil, an even darker threat stirred in the shadows. The monstrous Grothar, a creature of nightmares and ancient evil, began to gather an army in the depths of the forest. Grothar had long desired Eldoria, and with the kingdom distracted by the dragon, his chance for conquest seemed near.\n",
        "Determined to prevent catastrophe, King Alaric embarked on a perilous journey to Azaroth’s lair, accompanied by Elysia and a small retinue of brave knights. As they traversed the treacherous mountains, King Alaric pondered the cost of peace. Would Eldoria survive the gamble of diplomacy?\n",
        "Upon reaching Azaroth’s domain, the king faced the dragon with humility and courage. \"Great Azaroth,\" he called, \"we seek peace, not war. Eldoria offers friendship and tribute in exchange for your protection.\"\n",
        "Azaroth, with scales like molten metal and eyes burning like stars, considered the king's words. The ancient creature had witnessed ages pass and recognized sincerity in Alaric’s heart. \"I accept your offer, King Alaric,\" Azaroth rumbled, his voice echoing through the mountains. \"Together, we shall guard Eldoria.\"\n",
        "Meanwhile, Lord Varian’s machinations reached a fever pitch back in Eldoria. He conspired with Grothar, promising him power within the kingdom in exchange for overthrowing Alaric. Yet, Varian underestimated Grothar’s treachery, for the monster had no intention of sharing power.\n",
        "As the king returned triumphant with Azaroth as an ally, Grothar unleashed his horde upon Eldoria. Chaos erupted, but the tide of battle shifted when Azaroth soared across the skies, raining fire upon the monstrous invaders.\n",
        "With the dragon’s aid and the bravery of Eldoria’s people, Grothar was vanquished. In the aftermath, King Alaric confronted Varian, whose treachery had nearly destroyed the kingdom. Choosing mercy, Alaric exiled the disgraced noble, hoping to heal the kingdom's wounds.\n",
        "Peace was restored, and Eldoria thrived under Alaric’s wise rule, protected by the dragon’s watchful eye. The alliance between dragon and king became a legend, a testament to the power of courage, wisdom, and the belief that even the fiercest of enemies could become allies.\n",
        "\"\"\"\n",
        "\n",
        "document = [Document(page_content=text)]"
      ],
      "metadata": {
        "id": "XAyCDz19c3xh"
      },
      "execution_count": null,
      "outputs": []
    },
    {
      "cell_type": "code",
      "source": [
        "document"
      ],
      "metadata": {
        "colab": {
          "base_uri": "https://localhost:8080/"
        },
        "id": "Dk-qVgIZdqGg",
        "outputId": "2d885d50-fa6a-44fe-ccc4-8efab4a7dc03"
      },
      "execution_count": null,
      "outputs": [
        {
          "output_type": "execute_result",
          "data": {
            "text/plain": [
              "[Document(page_content='\\nIn the ancient kingdom of Eldoria, nestled between towering mountains and dense forests, King Alaric ruled with wisdom and valor. Under his reign, Eldoria flourished, but the kingdom was never truly at peace. Beyond the mountains lurked the fearsome dragon Azaroth, a creature of legend whose fiery breath could incinerate entire villages. Despite the threat, King Alaric held hope that diplomacy could prevent disaster.\\nThe wise King sought counsel from his trusted advisor, Elysia, a sorceress known for her deep knowledge of dragon lore. \"We must negotiate with Azaroth,\" she urged. \"Dragons are not mere beasts; they are ancient and intelligent. There might be a way to secure peace.\"\\nMeanwhile, within Eldoria\\'s court, a web of politics wove itself tighter. Lord Varian, an ambitious noble, saw the dragon\\'s threat as an opportunity. \"The people need a strong leader who will not cower before beasts,\" he whispered to the lords and ladies. His ambition fueled rumors that King Alaric was too lenient, too trusting in ancient magic and diplomacy.\\nAmidst this turmoil, an even darker threat stirred in the shadows. The monstrous Grothar, a creature of nightmares and ancient evil, began to gather an army in the depths of the forest. Grothar had long desired Eldoria, and with the kingdom distracted by the dragon, his chance for conquest seemed near.\\nDetermined to prevent catastrophe, King Alaric embarked on a perilous journey to Azaroth’s lair, accompanied by Elysia and a small retinue of brave knights. As they traversed the treacherous mountains, King Alaric pondered the cost of peace. Would Eldoria survive the gamble of diplomacy?\\nUpon reaching Azaroth’s domain, the king faced the dragon with humility and courage. \"Great Azaroth,\" he called, \"we seek peace, not war. Eldoria offers friendship and tribute in exchange for your protection.\"\\nAzaroth, with scales like molten metal and eyes burning like stars, considered the king\\'s words. The ancient creature had witnessed ages pass and recognized sincerity in Alaric’s heart. \"I accept your offer, King Alaric,\" Azaroth rumbled, his voice echoing through the mountains. \"Together, we shall guard Eldoria.\"\\nMeanwhile, Lord Varian’s machinations reached a fever pitch back in Eldoria. He conspired with Grothar, promising him power within the kingdom in exchange for overthrowing Alaric. Yet, Varian underestimated Grothar’s treachery, for the monster had no intention of sharing power.\\nAs the king returned triumphant with Azaroth as an ally, Grothar unleashed his horde upon Eldoria. Chaos erupted, but the tide of battle shifted when Azaroth soared across the skies, raining fire upon the monstrous invaders.\\nWith the dragon’s aid and the bravery of Eldoria’s people, Grothar was vanquished. In the aftermath, King Alaric confronted Varian, whose treachery had nearly destroyed the kingdom. Choosing mercy, Alaric exiled the disgraced noble, hoping to heal the kingdom\\'s wounds.\\nPeace was restored, and Eldoria thrived under Alaric’s wise rule, protected by the dragon’s watchful eye. The alliance between dragon and king became a legend, a testament to the power of courage, wisdom, and the belief that even the fiercest of enemies could become allies.\\n')]"
            ]
          },
          "metadata": {},
          "execution_count": 9
        }
      ]
    },
    {
      "cell_type": "code",
      "source": [
        "!pip install --upgrade --quiet langchain-experimental"
      ],
      "metadata": {
        "colab": {
          "base_uri": "https://localhost:8080/"
        },
        "id": "MhZhZPkqd4yn",
        "outputId": "56176b09-e95b-414f-da38-8333371bad27"
      },
      "execution_count": null,
      "outputs": [
        {
          "output_type": "stream",
          "name": "stdout",
          "text": [
            "\u001b[?25l   \u001b[90m━━━━━━━━━━━━━━━━━━━━━━━━━━━━━━━━━━━━━━━━\u001b[0m \u001b[32m0.0/204.3 kB\u001b[0m \u001b[31m?\u001b[0m eta \u001b[36m-:--:--\u001b[0m\r\u001b[2K   \u001b[90m━━━━━━━━━━━━━━━━━━━━━━━━━━━━━━━━━━━━━━━━\u001b[0m \u001b[32m204.3/204.3 kB\u001b[0m \u001b[31m5.7 MB/s\u001b[0m eta \u001b[36m0:00:00\u001b[0m\n",
            "\u001b[?25h"
          ]
        }
      ]
    },
    {
      "cell_type": "code",
      "source": [
        "from langchain_experimental.graph_transformers import LLMGraphTransformer\n",
        "\n",
        "llm_transformer = LLMGraphTransformer(llm=llm)"
      ],
      "metadata": {
        "id": "owAScUVUdssI"
      },
      "execution_count": null,
      "outputs": []
    },
    {
      "cell_type": "code",
      "source": [
        "graph_document = llm_transformer.convert_to_graph_documents(document)\n"
      ],
      "metadata": {
        "id": "r51d3dueeNY-"
      },
      "execution_count": null,
      "outputs": []
    },
    {
      "cell_type": "code",
      "source": [
        "graph_document"
      ],
      "metadata": {
        "colab": {
          "base_uri": "https://localhost:8080/"
        },
        "id": "RweSEcpQeym-",
        "outputId": "32e629a9-460d-4757-9e5b-fbc2a68d6e23"
      },
      "execution_count": null,
      "outputs": [
        {
          "output_type": "execute_result",
          "data": {
            "text/plain": [
              "[GraphDocument(nodes=[Node(id='King Alaric', type='Person'), Node(id='Elysia', type='Person'), Node(id='Lord Varian', type='Person'), Node(id='Azaroth', type='Dragon'), Node(id='Grothar', type='Monster'), Node(id='Eldoria', type='Kingdom')], relationships=[Relationship(source=Node(id='King Alaric', type='Person'), target=Node(id='Eldoria', type='Kingdom'), type='RULES'), Relationship(source=Node(id='King Alaric', type='Person'), target=Node(id='Elysia', type='Person'), type='SEEKS_COUNSEL'), Relationship(source=Node(id='Lord Varian', type='Person'), target=Node(id='Eldoria', type='Kingdom'), type='CONSPIRES'), Relationship(source=Node(id='Grothar', type='Monster'), target=Node(id='Eldoria', type='Kingdom'), type='ATTACKS'), Relationship(source=Node(id='King Alaric', type='Person'), target=Node(id='Azaroth', type='Dragon'), type='SEEKS_PEACE'), Relationship(source=Node(id='Azaroth', type='Dragon'), target=Node(id='Eldoria', type='Kingdom'), type='PROTECTS')], source=Document(page_content='\\nIn the ancient kingdom of Eldoria, nestled between towering mountains and dense forests, King Alaric ruled with wisdom and valor. Under his reign, Eldoria flourished, but the kingdom was never truly at peace. Beyond the mountains lurked the fearsome dragon Azaroth, a creature of legend whose fiery breath could incinerate entire villages. Despite the threat, King Alaric held hope that diplomacy could prevent disaster.\\nThe wise King sought counsel from his trusted advisor, Elysia, a sorceress known for her deep knowledge of dragon lore. \"We must negotiate with Azaroth,\" she urged. \"Dragons are not mere beasts; they are ancient and intelligent. There might be a way to secure peace.\"\\nMeanwhile, within Eldoria\\'s court, a web of politics wove itself tighter. Lord Varian, an ambitious noble, saw the dragon\\'s threat as an opportunity. \"The people need a strong leader who will not cower before beasts,\" he whispered to the lords and ladies. His ambition fueled rumors that King Alaric was too lenient, too trusting in ancient magic and diplomacy.\\nAmidst this turmoil, an even darker threat stirred in the shadows. The monstrous Grothar, a creature of nightmares and ancient evil, began to gather an army in the depths of the forest. Grothar had long desired Eldoria, and with the kingdom distracted by the dragon, his chance for conquest seemed near.\\nDetermined to prevent catastrophe, King Alaric embarked on a perilous journey to Azaroth’s lair, accompanied by Elysia and a small retinue of brave knights. As they traversed the treacherous mountains, King Alaric pondered the cost of peace. Would Eldoria survive the gamble of diplomacy?\\nUpon reaching Azaroth’s domain, the king faced the dragon with humility and courage. \"Great Azaroth,\" he called, \"we seek peace, not war. Eldoria offers friendship and tribute in exchange for your protection.\"\\nAzaroth, with scales like molten metal and eyes burning like stars, considered the king\\'s words. The ancient creature had witnessed ages pass and recognized sincerity in Alaric’s heart. \"I accept your offer, King Alaric,\" Azaroth rumbled, his voice echoing through the mountains. \"Together, we shall guard Eldoria.\"\\nMeanwhile, Lord Varian’s machinations reached a fever pitch back in Eldoria. He conspired with Grothar, promising him power within the kingdom in exchange for overthrowing Alaric. Yet, Varian underestimated Grothar’s treachery, for the monster had no intention of sharing power.\\nAs the king returned triumphant with Azaroth as an ally, Grothar unleashed his horde upon Eldoria. Chaos erupted, but the tide of battle shifted when Azaroth soared across the skies, raining fire upon the monstrous invaders.\\nWith the dragon’s aid and the bravery of Eldoria’s people, Grothar was vanquished. In the aftermath, King Alaric confronted Varian, whose treachery had nearly destroyed the kingdom. Choosing mercy, Alaric exiled the disgraced noble, hoping to heal the kingdom\\'s wounds.\\nPeace was restored, and Eldoria thrived under Alaric’s wise rule, protected by the dragon’s watchful eye. The alliance between dragon and king became a legend, a testament to the power of courage, wisdom, and the belief that even the fiercest of enemies could become allies.\\n'))]"
            ]
          },
          "metadata": {},
          "execution_count": 13
        }
      ]
    },
    {
      "cell_type": "code",
      "source": [
        "graph_document[0].nodes"
      ],
      "metadata": {
        "colab": {
          "base_uri": "https://localhost:8080/"
        },
        "id": "WRNb2Smre6Re",
        "outputId": "8a050cd1-faf8-4220-81d5-386532819bdb"
      },
      "execution_count": null,
      "outputs": [
        {
          "output_type": "execute_result",
          "data": {
            "text/plain": [
              "[Node(id='King Alaric', type='Person'),\n",
              " Node(id='Elysia', type='Person'),\n",
              " Node(id='Lord Varian', type='Person'),\n",
              " Node(id='Azaroth', type='Dragon'),\n",
              " Node(id='Grothar', type='Monster'),\n",
              " Node(id='Eldoria', type='Kingdom')]"
            ]
          },
          "metadata": {},
          "execution_count": 15
        }
      ]
    },
    {
      "cell_type": "code",
      "source": [
        "graph_document[0].relationships"
      ],
      "metadata": {
        "colab": {
          "base_uri": "https://localhost:8080/"
        },
        "id": "40QSjtXYfL8O",
        "outputId": "0c1b218a-0268-450d-f87e-e7d2bd7fcbdc"
      },
      "execution_count": null,
      "outputs": [
        {
          "output_type": "execute_result",
          "data": {
            "text/plain": [
              "[Relationship(source=Node(id='King Alaric', type='Person'), target=Node(id='Eldoria', type='Kingdom'), type='RULES'),\n",
              " Relationship(source=Node(id='King Alaric', type='Person'), target=Node(id='Elysia', type='Person'), type='SEEKS_COUNSEL'),\n",
              " Relationship(source=Node(id='Lord Varian', type='Person'), target=Node(id='Eldoria', type='Kingdom'), type='CONSPIRES'),\n",
              " Relationship(source=Node(id='Grothar', type='Monster'), target=Node(id='Eldoria', type='Kingdom'), type='ATTACKS'),\n",
              " Relationship(source=Node(id='King Alaric', type='Person'), target=Node(id='Azaroth', type='Dragon'), type='SEEKS_PEACE'),\n",
              " Relationship(source=Node(id='Azaroth', type='Dragon'), target=Node(id='Eldoria', type='Kingdom'), type='PROTECTS')]"
            ]
          },
          "metadata": {},
          "execution_count": 16
        }
      ]
    },
    {
      "cell_type": "code",
      "source": [
        "## laoding the dataset\n",
        "\n",
        "movie_query=\"\"\"\n",
        "LOAD CSV WITH HEADERS FROM\n",
        "'https://raw.githubusercontent.com/tomasonjo/blog-datasets/main/movies/movies_small.csv' as row\n",
        "\n",
        "MERGE(m:Movie{id:row.movieId})\n",
        "SET m.released = date(row.released),\n",
        "    m.title = row.title,\n",
        "    m.imdbRating = toFloat(row.imdbRating)\n",
        "FOREACH (director in split(row.director, '|') |\n",
        "    MERGE (p:Person {name:trim(director)})\n",
        "    MERGE (p)-[:DIRECTED]->(m))\n",
        "FOREACH (actor in split(row.actors, '|') |\n",
        "    MERGE (p:Person {name:trim(actor)})\n",
        "    MERGE (p)-[:ACTED_IN]->(m))\n",
        "FOREACH (genre in split(row.genres, '|') |\n",
        "    MERGE (g:Genre {name:trim(genre)})\n",
        "    MERGE (m)-[:IN_GENRE]->(g))\n",
        "\"\"\""
      ],
      "metadata": {
        "id": "o_t1nYJJfeLk"
      },
      "execution_count": null,
      "outputs": []
    },
    {
      "cell_type": "code",
      "source": [
        "graph.query(movie_query)"
      ],
      "metadata": {
        "colab": {
          "base_uri": "https://localhost:8080/"
        },
        "id": "LKT2Rwt8lQ8W",
        "outputId": "6c5e7cce-4857-4fe7-b830-46c304b77f40"
      },
      "execution_count": null,
      "outputs": [
        {
          "output_type": "execute_result",
          "data": {
            "text/plain": [
              "[]"
            ]
          },
          "metadata": {},
          "execution_count": 18
        }
      ]
    },
    {
      "cell_type": "code",
      "source": [
        "graph.refresh_schema()\n",
        "print(graph.schema)"
      ],
      "metadata": {
        "colab": {
          "base_uri": "https://localhost:8080/"
        },
        "id": "CP9yOPdhlmox",
        "outputId": "77fd9bfd-01a3-47ef-dfcd-4ec3de98a2ad"
      },
      "execution_count": null,
      "outputs": [
        {
          "output_type": "stream",
          "name": "stdout",
          "text": [
            "Node properties:\n",
            "Person {name: STRING, age: INTEGER}\n",
            "Organization {name: STRING}\n",
            "Location {name: STRING}\n",
            "Movie {id: STRING, released: DATE, title: STRING, imdbRating: FLOAT}\n",
            "Genre {name: STRING}\n",
            "Relationship properties:\n",
            "\n",
            "The relationships:\n",
            "(:Person)-[:WORKS_AT]->(:Organization)\n",
            "(:Person)-[:LIVES_IN]->(:Location)\n",
            "(:Person)-[:FRIEND_OF]->(:Person)\n",
            "(:Person)-[:DIRECTED]->(:Movie)\n",
            "(:Person)-[:ACTED_IN]->(:Movie)\n",
            "(:Organization)-[:LOCATED_IN]->(:Location)\n",
            "(:Location)-[:NEIGHBOR_OF]->(:Location)\n",
            "(:Movie)-[:IN_GENRE]->(:Genre)\n"
          ]
        }
      ]
    },
    {
      "cell_type": "code",
      "source": [
        "from langchain.chains import GraphCypherQAChain\n",
        "\n",
        "chain = GraphCypherQAChain.from_llm(\n",
        "    llm = llm, graph = graph, verbose = True\n",
        ")"
      ],
      "metadata": {
        "id": "4eIgypZJmcYE"
      },
      "execution_count": null,
      "outputs": []
    },
    {
      "cell_type": "code",
      "source": [
        "chain"
      ],
      "metadata": {
        "colab": {
          "base_uri": "https://localhost:8080/"
        },
        "id": "C_1FQfhxnBKx",
        "outputId": "fca4aa56-7729-4cdb-ba83-e18d5f7f2aa4"
      },
      "execution_count": null,
      "outputs": [
        {
          "output_type": "execute_result",
          "data": {
            "text/plain": [
              "GraphCypherQAChain(verbose=True, graph=<langchain_community.graphs.neo4j_graph.Neo4jGraph object at 0x7a10452517b0>, cypher_generation_chain=LLMChain(prompt=PromptTemplate(input_variables=['question', 'schema'], template='Task:Generate Cypher statement to query a graph database.\\nInstructions:\\nUse only the provided relationship types and properties in the schema.\\nDo not use any other relationship types or properties that are not provided.\\nSchema:\\n{schema}\\nNote: Do not include any explanations or apologies in your responses.\\nDo not respond to any questions that might ask anything else than for you to construct a Cypher statement.\\nDo not include any text except the generated Cypher statement.\\n\\nThe question is:\\n{question}'), llm=ChatGroq(client=<groq.resources.chat.completions.Completions object at 0x7a1012c98550>, async_client=<groq.resources.chat.completions.AsyncCompletions object at 0x7a1012c99210>, model_name='gemma2-9b-it', groq_api_key=SecretStr('**********'))), qa_chain=LLMChain(prompt=PromptTemplate(input_variables=['context', 'question'], template=\"You are an assistant that helps to form nice and human understandable answers.\\nThe information part contains the provided information that you must use to construct an answer.\\nThe provided information is authoritative, you must never doubt it or try to use your internal knowledge to correct it.\\nMake the answer sound as a response to the question. Do not mention that you based the result on the given information.\\nHere is an example:\\n\\nQuestion: Which managers own Neo4j stocks?\\nContext:[manager:CTL LLC, manager:JANE STREET GROUP LLC]\\nHelpful Answer: CTL LLC, JANE STREET GROUP LLC owns Neo4j stocks.\\n\\nFollow this example when generating answers.\\nIf the provided information is empty, say that you don't know the answer.\\nInformation:\\n{context}\\n\\nQuestion: {question}\\nHelpful Answer:\"), llm=ChatGroq(client=<groq.resources.chat.completions.Completions object at 0x7a1012c98550>, async_client=<groq.resources.chat.completions.AsyncCompletions object at 0x7a1012c99210>, model_name='gemma2-9b-it', groq_api_key=SecretStr('**********'))), graph_schema='Node properties are the following:\\nPerson {name: STRING, age: INTEGER},Organization {name: STRING},Location {name: STRING},Movie {id: STRING, released: DATE, title: STRING, imdbRating: FLOAT},Genre {name: STRING}\\nRelationship properties are the following:\\n\\nThe relationships are the following:\\n(:Person)-[:WORKS_AT]->(:Organization),(:Person)-[:LIVES_IN]->(:Location),(:Person)-[:FRIEND_OF]->(:Person),(:Person)-[:DIRECTED]->(:Movie),(:Person)-[:ACTED_IN]->(:Movie),(:Organization)-[:LOCATED_IN]->(:Location),(:Location)-[:NEIGHBOR_OF]->(:Location),(:Movie)-[:IN_GENRE]->(:Genre)')"
            ]
          },
          "metadata": {},
          "execution_count": 22
        }
      ]
    },
    {
      "cell_type": "code",
      "source": [
        "res = chain.invoke({\"query\" : \"Who is the director of Toy Story\"})\n",
        "res"
      ],
      "metadata": {
        "colab": {
          "base_uri": "https://localhost:8080/"
        },
        "id": "nCDvUWJWnCIk",
        "outputId": "1ef5a30e-07fc-41cd-f9eb-c1f87a9e3ccf"
      },
      "execution_count": null,
      "outputs": [
        {
          "output_type": "stream",
          "name": "stdout",
          "text": [
            "\n",
            "\n",
            "\u001b[1m> Entering new GraphCypherQAChain chain...\u001b[0m\n",
            "Generated Cypher:\n",
            "\u001b[32;1m\u001b[1;3mMATCH (m:Movie {title: \"Toy Story\"})<-[:DIRECTED]-(p:Person) RETURN p.name\u001b[0m\n",
            "Full Context:\n",
            "\u001b[32;1m\u001b[1;3m[{'p.name': 'John Lasseter'}]\u001b[0m\n",
            "\n",
            "\u001b[1m> Finished chain.\u001b[0m\n"
          ]
        },
        {
          "output_type": "execute_result",
          "data": {
            "text/plain": [
              "{'query': 'Who is the director of Toy Story',\n",
              " 'result': 'John Lasseter is the director of Toy Story. \\n'}"
            ]
          },
          "metadata": {},
          "execution_count": 29
        }
      ]
    },
    {
      "cell_type": "code",
      "source": [
        "res = chain.invoke({\"query\":\"Which movie were released in 2008\"})\n",
        "res"
      ],
      "metadata": {
        "colab": {
          "base_uri": "https://localhost:8080/"
        },
        "id": "Y-1wF6Jhnbmh",
        "outputId": "617fa0c5-8c1d-4d41-c599-ccb4b65a5642"
      },
      "execution_count": null,
      "outputs": [
        {
          "output_type": "stream",
          "name": "stdout",
          "text": [
            "\n",
            "\n",
            "\u001b[1m> Entering new GraphCypherQAChain chain...\u001b[0m\n",
            "Generated Cypher:\n",
            "\u001b[32;1m\u001b[1;3mMATCH (m:Movie)\n",
            "WHERE m.released = '2008'\n",
            "RETURN m.title\n",
            "\u001b[0m\n",
            "Full Context:\n",
            "\u001b[32;1m\u001b[1;3m[]\u001b[0m\n",
            "\n",
            "\u001b[1m> Finished chain.\u001b[0m\n"
          ]
        },
        {
          "output_type": "execute_result",
          "data": {
            "text/plain": [
              "{'query': 'Which movie were released in 2008',\n",
              " 'result': \"I don't know the answer. \\n\"}"
            ]
          },
          "metadata": {},
          "execution_count": 28
        }
      ]
    },
    {
      "cell_type": "code",
      "source": [
        "response=chain.invoke({\"query\":\"Who was the director of the moview GoldenEye\"})\n",
        "\n",
        "response"
      ],
      "metadata": {
        "colab": {
          "base_uri": "https://localhost:8080/"
        },
        "id": "Y4xnakYHnz1h",
        "outputId": "098c2134-33fe-4334-f53a-0dabc71a2aaf"
      },
      "execution_count": null,
      "outputs": [
        {
          "output_type": "stream",
          "name": "stdout",
          "text": [
            "\n",
            "\n",
            "\u001b[1m> Entering new GraphCypherQAChain chain...\u001b[0m\n",
            "Generated Cypher:\n",
            "\u001b[32;1m\u001b[1;3mMATCH (m:Movie {title: \"GoldenEye\"})<-[:DIRECTED]-(p:Person) RETURN p.name \n",
            "\u001b[0m\n",
            "Full Context:\n",
            "\u001b[32;1m\u001b[1;3m[{'p.name': 'Martin Campbell'}]\u001b[0m\n",
            "\n",
            "\u001b[1m> Finished chain.\u001b[0m\n"
          ]
        },
        {
          "output_type": "execute_result",
          "data": {
            "text/plain": [
              "{'query': 'Who was the director of the moview GoldenEye',\n",
              " 'result': 'Martin Campbell  \\n'}"
            ]
          },
          "metadata": {},
          "execution_count": 27
        }
      ]
    },
    {
      "cell_type": "code",
      "source": [
        "response=chain.invoke({\"query\":\"How many actress are there ?? and tell me their names also.\"})\n",
        "\n",
        "response"
      ],
      "metadata": {
        "colab": {
          "base_uri": "https://localhost:8080/"
        },
        "id": "weTh-684patV",
        "outputId": "bebea466-3fe7-42e0-ba73-6ac7e699c6a7"
      },
      "execution_count": null,
      "outputs": [
        {
          "output_type": "stream",
          "name": "stdout",
          "text": [
            "\n",
            "\n",
            "\u001b[1m> Entering new GraphCypherQAChain chain...\u001b[0m\n",
            "Generated Cypher:\n",
            "\u001b[32;1m\u001b[1;3mMATCH (p:Person)-[:ACTED_IN]->(m:Movie) WHERE p.name IS NOT NULL RETURN count(DISTINCT p), p.name\u001b[0m\n",
            "Full Context:\n",
            "\u001b[32;1m\u001b[1;3m[{'count(DISTINCT p)': 1, 'p.name': 'Jim Varney'}, {'count(DISTINCT p)': 1, 'p.name': 'Tim Allen'}, {'count(DISTINCT p)': 1, 'p.name': 'Tom Hanks'}, {'count(DISTINCT p)': 1, 'p.name': 'Don Rickles'}, {'count(DISTINCT p)': 1, 'p.name': 'Robin Williams'}, {'count(DISTINCT p)': 1, 'p.name': 'Bradley Pierce'}, {'count(DISTINCT p)': 1, 'p.name': 'Kirsten Dunst'}, {'count(DISTINCT p)': 1, 'p.name': 'Jonathan Hyde'}, {'count(DISTINCT p)': 1, 'p.name': 'Walter Matthau'}, {'count(DISTINCT p)': 1, 'p.name': 'Ann-Margret'}]\u001b[0m\n",
            "\n",
            "\u001b[1m> Finished chain.\u001b[0m\n"
          ]
        },
        {
          "output_type": "execute_result",
          "data": {
            "text/plain": [
              "{'query': 'How many actress are there ?? and tell me their names also.',\n",
              " 'result': 'There are 2 actresses. Their names are Kirsten Dunst and Ann-Margret. \\n'}"
            ]
          },
          "metadata": {},
          "execution_count": 41
        }
      ]
    },
    {
      "cell_type": "code",
      "source": [
        "response=chain.invoke({\"query\":\"Who is Grother ??\"})\n",
        "\n",
        "response"
      ],
      "metadata": {
        "colab": {
          "base_uri": "https://localhost:8080/"
        },
        "id": "JPhw5aVYp0a5",
        "outputId": "7f206596-bd4a-4a3e-89bc-5ac4ea8414b3"
      },
      "execution_count": null,
      "outputs": [
        {
          "output_type": "stream",
          "name": "stdout",
          "text": [
            "\n",
            "\n",
            "\u001b[1m> Entering new GraphCypherQAChain chain...\u001b[0m\n",
            "Generated Cypher:\n",
            "\u001b[32;1m\u001b[1;3mMATCH (p:Person {name: 'Grother'}) RETURN p\n",
            "\u001b[0m\n",
            "Full Context:\n",
            "\u001b[32;1m\u001b[1;3m[]\u001b[0m\n",
            "\n",
            "\u001b[1m> Finished chain.\u001b[0m\n"
          ]
        },
        {
          "output_type": "execute_result",
          "data": {
            "text/plain": [
              "{'query': 'Who is Grother ??', 'result': \"I don't know the answer. \\n\"}"
            ]
          },
          "metadata": {},
          "execution_count": 44
        }
      ]
    },
    {
      "cell_type": "code",
      "source": [],
      "metadata": {
        "id": "XoHOGHoDtONg"
      },
      "execution_count": null,
      "outputs": []
    }
  ]
}